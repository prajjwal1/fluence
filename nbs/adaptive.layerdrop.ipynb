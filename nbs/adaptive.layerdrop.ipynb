{
 "cells": [
  {
   "cell_type": "code",
   "execution_count": null,
   "metadata": {},
   "outputs": [],
   "source": [
    "# default_exp adaptive.layerdrop"
   ]
  },
  {
   "cell_type": "code",
   "execution_count": null,
   "metadata": {},
   "outputs": [],
   "source": [
    "# hide\n",
    "%load_ext pycodestyle_magic\n",
    "%pycodestyle_on\n",
    "%load_ext blackcellmagic"
   ]
  },
  {
   "cell_type": "code",
   "execution_count": null,
   "metadata": {},
   "outputs": [],
   "source": [
    "# export\n",
    "import torch\n",
    "from torch import nn"
   ]
  },
  {
   "cell_type": "markdown",
   "metadata": {},
   "source": [
    "# layerdrop\n",
    "> Implements Layerdrop for regularization and minimize computational steps. Layers can be pruned during inference"
   ]
  },
  {
   "cell_type": "code",
   "execution_count": null,
   "metadata": {},
   "outputs": [],
   "source": [
    "# export\n",
    "class Layerdrop(nn.Module):\n",
    "    \"\"\"\n",
    "    Implements [Reducing Transformer Depth on Demand with Structured Dropout]\n",
    "    (https://arxiv.org/abs/1909.11556)\n",
    "\n",
    "    Arguments:\n",
    "        module_list (nn.ModuleList): List from which layers are to dropped.\n",
    "        layers_to_drop (int): number of layers to drop\n",
    "\n",
    "    Returns:\n",
    "        feats: pruned features\n",
    "    \"\"\"\n",
    "\n",
    "    def __init__(self, module_list, layers_to_drop):\n",
    "        super(Layerdrop, self).__init__()\n",
    "        self.module_list = module_list\n",
    "        self.layers_to_drop = layers_to_drop\n",
    "        self.length = len(module_list)\n",
    "\n",
    "    def forward(self, feats, mask=None):\n",
    "        x = torch.randint(0, self.length, (self.layers_to_drop,))\n",
    "        for index, layer in enumerate(self.module_list):\n",
    "            if index not in x:\n",
    "                if not mask:\n",
    "                    feats = layer(feats)\n",
    "                else:\n",
    "                    feats = layer(feats, mask)\n",
    "        return feats"
   ]
  },
  {
   "cell_type": "code",
   "execution_count": null,
   "metadata": {},
   "outputs": [],
   "source": [
    "# export\n",
    "class Layerdrop_Cross(nn.Module):\n",
    "    \"\"\"\n",
    "    This method is useful when layerdrop has to be\n",
    "    used in multi modal settings (visual and linguistic)\n",
    "    features\n",
    "\n",
    "    Returns:\n",
    "        lang_feats, visn_feats: pruned features for language and vision modality\n",
    "    \"\"\"\n",
    "\n",
    "    def __init__(self, module_list, layers_to_drop=2):\n",
    "        super(Layerdrop_Cross, self).__init__()\n",
    "        self.module_list = module_list\n",
    "        self.layers_to_drop = layers_to_drop\n",
    "        self.length = len(module_list)\n",
    "\n",
    "    def forward(self, lang_feats, lang_attention_mask, visn_feats, visn_attention_mask):\n",
    "        x = torch.randint(0, self.length, (self.layers_to_drop,))\n",
    "        for index, layer in enumerate(self.module_list):\n",
    "            if index not in x:\n",
    "                lang_feats, visn_feats = layer(\n",
    "                    lang_feats, lang_attention_mask, visn_feats, visn_attention_mask\n",
    "                )  #\n",
    "        return lang_feats, visn_feats"
   ]
  },
  {
   "cell_type": "code",
   "execution_count": null,
   "metadata": {},
   "outputs": [],
   "source": [
    "# hide\n",
    "def test_layerdrop():\n",
    "    net = nn.ModuleList([nn.Linear(2, 2) for i in range(3)])\n",
    "    layerdrop = Layerdrop(net, 2)\n",
    "    optimizer = torch.optim.SGD(net.parameters(), lr=0.01)\n",
    "    list(layerdrop.module_list.parameters())\n",
    "    loss = layerdrop(torch.rand(10, 2)).sum()\n",
    "    optimizer.zero_grad()\n",
    "    loss.backward()\n",
    "    optimizer.step()\n",
    "    list(layerdrop.module_list.parameters())"
   ]
  },
  {
   "cell_type": "code",
   "execution_count": null,
   "metadata": {},
   "outputs": [],
   "source": [
    "test_layerdrop()"
   ]
  },
  {
   "cell_type": "code",
   "execution_count": null,
   "metadata": {},
   "outputs": [],
   "source": [
    "# hide\n",
    "from nbdev.export import *\n",
    "notebook2script()"
   ]
  }
 ],
 "metadata": {
  "kernelspec": {
   "display_name": "Python 3",
   "language": "python",
   "name": "python3"
  }
 },
 "nbformat": 4,
 "nbformat_minor": 4
}
