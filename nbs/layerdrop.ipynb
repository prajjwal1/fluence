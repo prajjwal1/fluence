{
 "cells": [
  {
   "cell_type": "code",
   "execution_count": null,
   "metadata": {},
   "outputs": [],
   "source": [
    "# default_exp adaptive.layerdrop"
   ]
  },
  {
   "cell_type": "code",
   "execution_count": null,
   "metadata": {},
   "outputs": [],
   "source": [
    "#export \n",
    "import torch\n",
    "from torch import nn"
   ]
  },
  {
   "cell_type": "markdown",
   "metadata": {},
   "source": [
    "# fluence.adaptive.layerdrop\n",
    "> Implements Layerdrop for regularization and minimize computational steps. Layers can be pruned during inference"
   ]
  },
  {
   "cell_type": "code",
   "execution_count": null,
   "metadata": {},
   "outputs": [],
   "source": [
    "# export\n",
    "class LayerDrop(nn.Module):\n",
    "    \"\"\"\n",
    "    Implements Reducing Transformer Depth on Demand with Structured Dropout\n",
    "    [Paper](https://arxiv.org/abs/1909.11556)\n",
    "\n",
    "    Arguments:\n",
    "        module_list (nn.ModuleList): List from which layers are to dropped.\n",
    "        layers_to_drop (int): number of layers to drop\n",
    "    \"\"\"\n",
    "    def __init__(self, module_list, layers_to_drop):\n",
    "        super(LayerDrop, self).__init__()\n",
    "        self.module_list = module_list\n",
    "        self.layers_to_drop = layers_to_drop\n",
    "        self.length = len(module_list)\n",
    "\n",
    "    def forward(self, feats, mask=None):\n",
    "        x = torch.randint(0, self.length, (self.layers_to_drop,))\n",
    "        for index, layer in enumerate(self.module_list):\n",
    "            if index not in x:\n",
    "                if not mask:\n",
    "                    feats = layer(feats)\n",
    "                else:\n",
    "                    feats = layer(feats, mask)\n",
    "        return feats\n"
   ]
  },
  {
   "cell_type": "code",
   "execution_count": null,
   "metadata": {},
   "outputs": [],
   "source": [
    "# export\n",
    "class LayerDrop_Cross(nn.Module):\n",
    "    def __init__(self, module_list, layers_to_drop=2):\n",
    "        super(LayerDrop_Cross, self).__init__()\n",
    "        self.module_list = module_list\n",
    "        self.layers_to_drop = layers_to_drop\n",
    "        self.length = len(module_list)\n",
    "    \n",
    "    def forward(self, lang_feats, lang_attention_mask, visn_feats, visn_attention_mask):\n",
    "        x = torch.randint(0, self.length, (self.layers_to_drop,)) \n",
    "        for index, layer in enumerate(self.module_list):\n",
    "            if index not in x:\n",
    "                lang_feats, visn_feats = layer(lang_feats, lang_attention_mask,\n",
    "                                               visn_feats, visn_attention_mask) # \n",
    "        return lang_feats, visn_feats"
   ]
  },
  {
   "cell_type": "code",
   "execution_count": null,
   "metadata": {},
   "outputs": [],
   "source": [
    "net = nn.ModuleList([nn.Linear(2, 2) for i in range(3)])\n",
    "layerdrop = LayerDrop(net,2)\n",
    "optimizer = torch.optim.SGD(net.parameters(), lr=0.01)\n",
    "list(layerdrop.module_list.parameters())\n",
    "loss = layerdrop(torch.rand(10,2)).sum()\n",
    "optimizer.zero_grad()\n",
    "loss.backward()\n",
    "optimizer.step()\n",
    "list(layerdrop.module_list.parameters())"
   ]
  },
  {
   "cell_type": "code",
   "execution_count": null,
   "metadata": {},
   "outputs": [],
   "source": []
  }
 ],
 "metadata": {
  "kernelspec": {
   "display_name": "torch7",
   "language": "python",
   "name": "torch"
  }
 },
 "nbformat": 4,
 "nbformat_minor": 4
}
