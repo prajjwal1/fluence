{
 "cells": [
  {
   "cell_type": "code",
   "execution_count": null,
   "metadata": {},
   "outputs": [],
   "source": [
    "# default_exp tests.optimizer"
   ]
  },
  {
   "cell_type": "markdown",
   "metadata": {},
   "source": [
    "# fluence.tests.optimizer\n",
    "> Runs tests for optimizers"
   ]
  },
  {
   "cell_type": "code",
   "execution_count": null,
   "metadata": {},
   "outputs": [],
   "source": [
    "#export\n",
    "from fluence.optimizers.lamb import Lamb\n",
    "from fluence.optimizers.lookahead import Lookahead\n",
    "import torch\n",
    "import torchvision"
   ]
  },
  {
   "cell_type": "code",
   "execution_count": null,
   "metadata": {},
   "outputs": [],
   "source": [
    "#export\n",
    "model = torchvision.models.AlexNet()"
   ]
  },
  {
   "cell_type": "code",
   "execution_count": null,
   "metadata": {},
   "outputs": [],
   "source": [
    "#export\n",
    "base_optim = Lamb(params=model.parameters(),lr=1e-5, weight_decay=1.2e-6, min_trust=0.25)\n",
    "optim = Lookahead(base_optimizer=base_optim, k=5, alpha=0.8)"
   ]
  },
  {
   "cell_type": "code",
   "execution_count": null,
   "metadata": {},
   "outputs": [
    {
     "data": {
      "text/plain": [
       "tensor([[-0.0039, -0.0128, -0.0047,  ...,  0.0033, -0.0226,  0.0074],\n",
       "        [ 0.0010, -0.0130, -0.0077,  ...,  0.0025, -0.0256,  0.0049],\n",
       "        [-0.0084, -0.0181, -0.0051,  ..., -0.0003, -0.0197,  0.0068],\n",
       "        ...,\n",
       "        [-0.0049, -0.0089, -0.0057,  ..., -0.0019, -0.0199,  0.0069],\n",
       "        [-0.0062, -0.0218, -0.0048,  ...,  0.0080, -0.0243,  0.0093],\n",
       "        [-0.0010, -0.0089, -0.0042,  ...,  0.0010, -0.0200,  0.0045]],\n",
       "       grad_fn=<AddmmBackward>)"
      ]
     },
     "execution_count": null,
     "metadata": {},
     "output_type": "execute_result"
    }
   ],
   "source": [
    "#export\n",
    "model(torch.rand(128,3,64,64))"
   ]
  },
  {
   "cell_type": "code",
   "execution_count": null,
   "metadata": {},
   "outputs": [],
   "source": [
    "#export\n",
    "optim.step()"
   ]
  }
 ],
 "metadata": {
  "kernelspec": {
   "display_name": "torch",
   "language": "python",
   "name": "torch"
  }
 },
 "nbformat": 4,
 "nbformat_minor": 2
}
