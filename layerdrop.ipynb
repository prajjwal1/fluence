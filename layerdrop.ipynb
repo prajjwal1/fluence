{
 "cells": [
  {
   "cell_type": "code",
   "execution_count": null,
   "metadata": {},
   "outputs": [],
   "source": [
    "# default_exp adaptive.layerdrop\n",
    "%load_ext autoreload\n",
    "%autoreload 2"
   ]
  },
  {
   "cell_type": "code",
   "execution_count": null,
   "metadata": {},
   "outputs": [],
   "source": [
    "#hide\n",
    "from nbdev.showdoc import *"
   ]
  },
  {
   "cell_type": "code",
   "execution_count": null,
   "metadata": {},
   "outputs": [],
   "source": [
    "#export \n",
    "import torch\n",
    "from torch import nn"
   ]
  },
  {
   "cell_type": "code",
   "execution_count": null,
   "metadata": {},
   "outputs": [],
   "source": [
    "#export \n",
    "class LayerDrop(nn.Module):\n",
    "    \"\"\"\n",
    "    Implements Reducing Transformer Depth on Demand with Structured Dropout (https://arxiv.org/abs/1909.11556)\n",
    "    \n",
    "    Arguments:\n",
    "        module_list (nn.ModuleList): List from which layers are to dropped.\n",
    "        layers_to_drop (int): number of layers to drop\n",
    "    \"\"\"\n",
    "    def __init__(self, module_list, layers_to_drop):\n",
    "        super(LayerDrop, self).__init__()\n",
    "        self.module_list = module_list\n",
    "        self.layers_to_drop = layers_to_drop\n",
    "        self.length = len(module_list)\n",
    "    \n",
    "    def forward(self, feats, mask=None):\n",
    "        x = torch.randint(0, self.length, (self.layers_to_drop,))\n",
    "        for index, layer in enumerate(self.module_list):\n",
    "            if index not in x:\n",
    "                if not mask:\n",
    "                    feats = layer(feats)\n",
    "                else:\n",
    "                    feats = layer(feats, mask)\n",
    "        return feats"
   ]
  },
  {
   "cell_type": "code",
   "execution_count": null,
   "metadata": {},
   "outputs": [],
   "source": [
    "net = nn.ModuleList([nn.Linear(2, 2) for i in range(3)])"
   ]
  },
  {
   "cell_type": "code",
   "execution_count": null,
   "metadata": {},
   "outputs": [],
   "source": [
    "layerdrop = LayerDrop(net,2)"
   ]
  },
  {
   "cell_type": "code",
   "execution_count": null,
   "metadata": {},
   "outputs": [],
   "source": [
    "optimizer = torch.optim.SGD(net.parameters(), lr=0.01)"
   ]
  },
  {
   "cell_type": "code",
   "execution_count": null,
   "metadata": {},
   "outputs": [
    {
     "data": {
      "text/plain": [
       "[Parameter containing:\n",
       " tensor([[-0.4580, -0.3658],\n",
       "         [ 0.6844, -0.1322]], requires_grad=True), Parameter containing:\n",
       " tensor([0.1487, 0.4848], requires_grad=True), Parameter containing:\n",
       " tensor([[ 0.3933,  0.3460],\n",
       "         [-0.1324,  0.3969]], requires_grad=True), Parameter containing:\n",
       " tensor([-0.3601,  0.0282], requires_grad=True), Parameter containing:\n",
       " tensor([[-0.2810, -0.1985],\n",
       "         [ 0.2533, -0.6242]], requires_grad=True), Parameter containing:\n",
       " tensor([ 0.6768, -0.2451], requires_grad=True)]"
      ]
     },
     "execution_count": null,
     "metadata": {},
     "output_type": "execute_result"
    }
   ],
   "source": [
    "list(layerdrop.module_list.parameters())"
   ]
  },
  {
   "cell_type": "code",
   "execution_count": null,
   "metadata": {},
   "outputs": [
    {
     "name": "stdout",
     "output_type": "stream",
     "text": [
      "tensor([0, 2])\n"
     ]
    }
   ],
   "source": [
    "loss = layerdrop(torch.rand(10,2)).sum()"
   ]
  },
  {
   "cell_type": "code",
   "execution_count": null,
   "metadata": {},
   "outputs": [],
   "source": [
    "optimizer.zero_grad()"
   ]
  },
  {
   "cell_type": "code",
   "execution_count": null,
   "metadata": {},
   "outputs": [],
   "source": [
    "loss.backward()"
   ]
  },
  {
   "cell_type": "code",
   "execution_count": null,
   "metadata": {},
   "outputs": [],
   "source": [
    "optimizer.step()"
   ]
  },
  {
   "cell_type": "code",
   "execution_count": null,
   "metadata": {},
   "outputs": [
    {
     "data": {
      "text/plain": [
       "[Parameter containing:\n",
       " tensor([[-0.4580, -0.3658],\n",
       "         [ 0.6844, -0.1322]], requires_grad=True), Parameter containing:\n",
       " tensor([0.1487, 0.4848], requires_grad=True), Parameter containing:\n",
       " tensor([[ 0.3432,  0.3078],\n",
       "         [-0.1824,  0.3587]], requires_grad=True), Parameter containing:\n",
       " tensor([-0.4601, -0.0718], requires_grad=True), Parameter containing:\n",
       " tensor([[-0.2810, -0.1985],\n",
       "         [ 0.2533, -0.6242]], requires_grad=True), Parameter containing:\n",
       " tensor([ 0.6768, -0.2451], requires_grad=True)]"
      ]
     },
     "execution_count": null,
     "metadata": {},
     "output_type": "execute_result"
    }
   ],
   "source": [
    "list(layerdrop.module_list.parameters())"
   ]
  },
  {
   "cell_type": "code",
   "execution_count": null,
   "metadata": {},
   "outputs": [],
   "source": []
  }
 ],
 "metadata": {
  "kernelspec": {
   "display_name": "torch",
   "language": "python",
   "name": "torch"
  }
 },
 "nbformat": 4,
 "nbformat_minor": 2
}
