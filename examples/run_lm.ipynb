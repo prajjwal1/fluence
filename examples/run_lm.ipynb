{
 "cells": [
  {
   "cell_type": "code",
   "execution_count": 1,
   "metadata": {},
   "outputs": [
    {
     "name": "stderr",
     "output_type": "stream",
     "text": [
      "I0508 04:29:29.438768 139738724797312 file_utils.py:38] PyTorch version 1.5.0 available.\n",
      "/glob/intel-python/python3/lib/python3.6/site-packages/tensorflow/python/framework/dtypes.py:526: FutureWarning: Passing (type, 1) or '1type' as a synonym of type is deprecated; in a future version of numpy, it will be understood as (type, (1,)) / '(1,)type'.\n",
      "  _np_qint8 = np.dtype([(\"qint8\", np.int8, 1)])\n",
      "/glob/intel-python/python3/lib/python3.6/site-packages/tensorflow/python/framework/dtypes.py:527: FutureWarning: Passing (type, 1) or '1type' as a synonym of type is deprecated; in a future version of numpy, it will be understood as (type, (1,)) / '(1,)type'.\n",
      "  _np_quint8 = np.dtype([(\"quint8\", np.uint8, 1)])\n",
      "/glob/intel-python/python3/lib/python3.6/site-packages/tensorflow/python/framework/dtypes.py:528: FutureWarning: Passing (type, 1) or '1type' as a synonym of type is deprecated; in a future version of numpy, it will be understood as (type, (1,)) / '(1,)type'.\n",
      "  _np_qint16 = np.dtype([(\"qint16\", np.int16, 1)])\n",
      "/glob/intel-python/python3/lib/python3.6/site-packages/tensorflow/python/framework/dtypes.py:529: FutureWarning: Passing (type, 1) or '1type' as a synonym of type is deprecated; in a future version of numpy, it will be understood as (type, (1,)) / '(1,)type'.\n",
      "  _np_quint16 = np.dtype([(\"quint16\", np.uint16, 1)])\n",
      "/glob/intel-python/python3/lib/python3.6/site-packages/tensorflow/python/framework/dtypes.py:530: FutureWarning: Passing (type, 1) or '1type' as a synonym of type is deprecated; in a future version of numpy, it will be understood as (type, (1,)) / '(1,)type'.\n",
      "  _np_qint32 = np.dtype([(\"qint32\", np.int32, 1)])\n",
      "/glob/intel-python/python3/lib/python3.6/site-packages/tensorflow/python/framework/dtypes.py:535: FutureWarning: Passing (type, 1) or '1type' as a synonym of type is deprecated; in a future version of numpy, it will be understood as (type, (1,)) / '(1,)type'.\n",
      "  np_resource = np.dtype([(\"resource\", np.ubyte, 1)])\n",
      "/glob/intel-python/python3/lib/python3.6/site-packages/h5py/__init__.py:34: FutureWarning: Conversion of the second argument of issubdtype from `float` to `np.floating` is deprecated. In future, it will be treated as `np.float64 == np.dtype(float).type`.\n",
      "  from ._conv import register_converters as _register_converters\n",
      "/home/u37216/.local/lib/python3.6/site-packages/tensorboard/compat/tensorflow_stub/dtypes.py:541: FutureWarning: Passing (type, 1) or '1type' as a synonym of type is deprecated; in a future version of numpy, it will be understood as (type, (1,)) / '(1,)type'.\n",
      "  _np_qint8 = np.dtype([(\"qint8\", np.int8, 1)])\n",
      "/home/u37216/.local/lib/python3.6/site-packages/tensorboard/compat/tensorflow_stub/dtypes.py:542: FutureWarning: Passing (type, 1) or '1type' as a synonym of type is deprecated; in a future version of numpy, it will be understood as (type, (1,)) / '(1,)type'.\n",
      "  _np_quint8 = np.dtype([(\"quint8\", np.uint8, 1)])\n",
      "/home/u37216/.local/lib/python3.6/site-packages/tensorboard/compat/tensorflow_stub/dtypes.py:543: FutureWarning: Passing (type, 1) or '1type' as a synonym of type is deprecated; in a future version of numpy, it will be understood as (type, (1,)) / '(1,)type'.\n",
      "  _np_qint16 = np.dtype([(\"qint16\", np.int16, 1)])\n",
      "/home/u37216/.local/lib/python3.6/site-packages/tensorboard/compat/tensorflow_stub/dtypes.py:544: FutureWarning: Passing (type, 1) or '1type' as a synonym of type is deprecated; in a future version of numpy, it will be understood as (type, (1,)) / '(1,)type'.\n",
      "  _np_quint16 = np.dtype([(\"quint16\", np.uint16, 1)])\n",
      "/home/u37216/.local/lib/python3.6/site-packages/tensorboard/compat/tensorflow_stub/dtypes.py:545: FutureWarning: Passing (type, 1) or '1type' as a synonym of type is deprecated; in a future version of numpy, it will be understood as (type, (1,)) / '(1,)type'.\n",
      "  _np_qint32 = np.dtype([(\"qint32\", np.int32, 1)])\n",
      "/home/u37216/.local/lib/python3.6/site-packages/tensorboard/compat/tensorflow_stub/dtypes.py:550: FutureWarning: Passing (type, 1) or '1type' as a synonym of type is deprecated; in a future version of numpy, it will be understood as (type, (1,)) / '(1,)type'.\n",
      "  np_resource = np.dtype([(\"resource\", np.ubyte, 1)])\n"
     ]
    }
   ],
   "source": [
    "import logging\n",
    "import math\n",
    "import os\n",
    "from dataclasses import dataclass, field\n",
    "from typing import Optional\n",
    "from pathlib import Path\n",
    "\n",
    "\n",
    "from transformers import (\n",
    "    CONFIG_MAPPING,\n",
    "    MODEL_WITH_LM_HEAD_MAPPING,\n",
    "    AutoConfig,\n",
    "    AutoModelWithLMHead,\n",
    "    AutoTokenizer,\n",
    "    DataCollatorForLanguageModeling,\n",
    "    HfArgumentParser,\n",
    "    LineByLineTextDataset,\n",
    "    PreTrainedTokenizer,\n",
    "    TextDataset,\n",
    "    Trainer,\n",
    "    TrainingArguments,\n",
    "    set_seed,\n",
    ")"
   ]
  },
  {
   "cell_type": "code",
   "execution_count": 2,
   "metadata": {},
   "outputs": [],
   "source": [
    "home = str(Path.home())\n",
    "logger = logging.getLogger(__name__)\n",
    "MODEL_CONFIG_CLASSES = list(MODEL_WITH_LM_HEAD_MAPPING.keys())\n",
    "MODEL_TYPES = tuple(conf.model_type for conf in MODEL_CONFIG_CLASSES)"
   ]
  },
  {
   "cell_type": "code",
   "execution_count": 3,
   "metadata": {},
   "outputs": [],
   "source": [
    "@dataclass\n",
    "class ModelArguments:\n",
    "    model_name_or_path: str = field(\n",
    "        metadata={\"help\": \"Path to pretrained model or model identifier from huggingface.co/models\"}\n",
    "    )\n",
    "    model_type: Optional[str] = field(\n",
    "        default=None,\n",
    "        metadata={\"help\": \"If training from scratch, pass a model type from the list: \" + \", \".join(MODEL_TYPES)},\n",
    "    )    \n",
    "    config_name: Optional[str] = field(\n",
    "        default=None, metadata={\"help\": \"Pretrained config name or path if not the same as model_name\"}\n",
    "    )\n",
    "    tokenizer_name: Optional[str] = field(\n",
    "        default=None, metadata={\"help\": \"Pretrained tokenizer name or path if not the same as model_name\"}\n",
    "    )\n",
    "    cache_dir: Optional[str] = field(\n",
    "        default=None, metadata={\"help\": \"Where do you want to store the pretrained models downloaded from s3\"}\n",
    "    )\n"
   ]
  },
  {
   "cell_type": "code",
   "execution_count": 4,
   "metadata": {},
   "outputs": [],
   "source": [
    "@dataclass\n",
    "class DataTrainingArguments:\n",
    "    \"\"\"\n",
    "    Arguments pertaining to what data we are going to input our model for training and eval.\n",
    "    \"\"\"\n",
    "\n",
    "    train_data_file: Optional[str] = field(\n",
    "        default=None, metadata={\"help\": \"The input training data file (a text file).\"}\n",
    "    )\n",
    "    eval_data_file: Optional[str] = field(\n",
    "        default=None,\n",
    "        metadata={\"help\": \"An optional input evaluation data file to evaluate the perplexity on (a text file).\"},\n",
    "    )\n",
    "    line_by_line: bool = field(\n",
    "        default=False,\n",
    "        metadata={\"help\": \"Whether distinct lines of text in the dataset are to be handled as distinct sequences.\"},\n",
    "    )\n",
    "\n",
    "    mlm: bool = field(\n",
    "        default=False, metadata={\"help\": \"Train with masked-language modeling loss instead of language modeling.\"}\n",
    "    )\n",
    "    mlm_probability: float = field(\n",
    "        default=0.15, metadata={\"help\": \"Ratio of tokens to mask for masked language modeling loss\"}\n",
    "    )\n",
    "\n",
    "    block_size: int = field(\n",
    "        default=-1,\n",
    "        metadata={\n",
    "            \"help\": \"Optional input sequence length after tokenization.\"\n",
    "            \"The training dataset will be truncated in block of this size for training.\"\n",
    "            \"Default to the model max input length for single sentence inputs (take into account special tokens).\"\n",
    "        },\n",
    "    )\n",
    "    overwrite_cache: bool = field(\n",
    "        default=False, metadata={\"help\": \"Overwrite the cached training and evaluation sets\"}\n",
    "    )\n"
   ]
  },
  {
   "cell_type": "code",
   "execution_count": 5,
   "metadata": {},
   "outputs": [],
   "source": [
    "TRAIN_DATA_DIR = os.path.join(home, 'data', 'wikitext-2-raw', 'wiki.train.raw')\n",
    "EVAL_DATA_DIR = os.path.join(home, 'data', 'wikitext-2-raw', 'wiki.valid.raw')"
   ]
  },
  {
   "cell_type": "code",
   "execution_count": 45,
   "metadata": {},
   "outputs": [],
   "source": [
    "model_args = ModelArguments(model_type='reformer',\n",
    "                           model_name_or_path = 'google/reformer-crime-and-punishment')\n",
    "training_args = TrainingArguments(output_dir = os.path.join(home, 'saved_models'),\n",
    "                                 do_train = True,\n",
    "                                  evaluate_during_training = True,\n",
    "                                  do_eval = True,\n",
    "                                  do_predict = True,\n",
    "                                 per_gpu_train_batch_size = 4,\n",
    "                                 per_gpu_eval_batch_size=4)\n",
    "data_args = DataTrainingArguments(train_data_file = TRAIN_DATA_DIR,\n",
    "                                  eval_data_file = EVAL_DATA_DIR,\n",
    "                                 line_by_line = False)"
   ]
  },
  {
   "cell_type": "code",
   "execution_count": 9,
   "metadata": {},
   "outputs": [
    {
     "data": {
      "text/plain": [
       "DataTrainingArguments(train_data_file='/home/u37216/data/wikitext-2-raw/wiki.train.raw', eval_data_file='/home/u37216/data/wikitext-2-raw/wiki.valid.raw', line_by_line=False, mlm=False, mlm_probability=0.15, block_size=-1, overwrite_cache=False)"
      ]
     },
     "execution_count": 9,
     "metadata": {},
     "output_type": "execute_result"
    }
   ],
   "source": [
    "data_args"
   ]
  },
  {
   "cell_type": "code",
   "execution_count": 10,
   "metadata": {},
   "outputs": [],
   "source": [
    "def get_dataset(args: DataTrainingArguments, tokenizer: PreTrainedTokenizer, evaluate=False, local_rank=-1):\n",
    "    file_path = args.eval_data_file if evaluate else args.train_data_file\n",
    "    if args.line_by_line:\n",
    "        return LineByLineTextDataset(\n",
    "            tokenizer=tokenizer, file_path=file_path, block_size=args.block_size, local_rank=local_rank\n",
    "        )\n",
    "    else:\n",
    "        return TextDataset(\n",
    "            tokenizer=tokenizer, file_path=file_path, block_size=args.block_size, local_rank=local_rank,\n",
    "        )"
   ]
  },
  {
   "cell_type": "code",
   "execution_count": 11,
   "metadata": {},
   "outputs": [
    {
     "name": "stderr",
     "output_type": "stream",
     "text": [
      "I0508 04:30:39.634112 139738724797312 training_args.py:127] PyTorch: setting up devices\n",
      "W0508 04:30:39.652303 139738724797312 <ipython-input-11-3c50b0fce79f>:13] Process rank: -1, device: cpu, n_gpu: 0, distributed training: False, 16-bits training: False\n",
      "I0508 04:30:39.654711 139738724797312 <ipython-input-11-3c50b0fce79f>:15] Training/evaluation parameters TrainingArguments(output_dir='/tmp', overwrite_output_dir=False, do_train=True, do_eval=True, do_predict=True, evaluate_during_training=True, per_gpu_train_batch_size=8, per_gpu_eval_batch_size=8, gradient_accumulation_steps=1, learning_rate=5e-05, weight_decay=0.0, adam_epsilon=1e-08, max_grad_norm=1.0, num_train_epochs=3.0, max_steps=-1, warmup_steps=0, logging_dir=None, logging_first_step=False, logging_steps=500, save_steps=500, save_total_limit=None, no_cuda=False, seed=42, fp16=False, fp16_opt_level='O1', local_rank=-1, tpu_num_cores=None, tpu_metrics_debug=False)\n"
     ]
    }
   ],
   "source": [
    "# Setup logging\n",
    "logging.basicConfig(\n",
    "    format=\"%(asctime)s - %(levelname)s - %(name)s -   %(message)s\",\n",
    "    datefmt=\"%m/%d/%Y %H:%M:%S\",\n",
    "    level=logging.INFO if training_args.local_rank in [-1, 0] else logging.WARN,\n",
    ")\n",
    "logger.warning(\n",
    "    \"Process rank: %s, device: %s, n_gpu: %s, distributed training: %s, 16-bits training: %s\",\n",
    "    training_args.local_rank,\n",
    "    training_args.device,\n",
    "    training_args.n_gpu,\n",
    "    bool(training_args.local_rank != -1),\n",
    "    training_args.fp16,\n",
    ")\n",
    "logger.info(\"Training/evaluation parameters %s\", training_args)"
   ]
  },
  {
   "cell_type": "code",
   "execution_count": 13,
   "metadata": {},
   "outputs": [
    {
     "name": "stderr",
     "output_type": "stream",
     "text": [
      "I0508 04:31:30.932655 139738724797312 configuration_utils.py:285] loading configuration file https://s3.amazonaws.com/models.huggingface.co/bert/google/reformer-crime-and-punishment/config.json from cache at /home/u37216/.cache/torch/transformers/74be8efac14e2092c5e89b76a2e512b088b4516b3971c6328db52a22278ab3a6.c45c6a743fd11cbe6b5e4c683093a9b5aa7441857744454e0cb36d6168d704b9\n",
      "I0508 04:31:30.936940 139738724797312 configuration_utils.py:321] Model config ReformerConfig {\n",
      "  \"architectures\": [\n",
      "    \"ReformerModelWithLMHead\"\n",
      "  ],\n",
      "  \"attention_head_size\": 64,\n",
      "  \"attention_probs_dropout_prob\": 0.1,\n",
      "  \"attn_layers\": [\n",
      "    \"local\",\n",
      "    \"lsh\",\n",
      "    \"local\",\n",
      "    \"lsh\",\n",
      "    \"local\",\n",
      "    \"lsh\"\n",
      "  ],\n",
      "  \"axial_norm_std\": 1.0,\n",
      "  \"axial_pos_embds\": true,\n",
      "  \"axial_pos_embds_dim\": [\n",
      "    64,\n",
      "    192\n",
      "  ],\n",
      "  \"axial_pos_shape\": [\n",
      "    512,\n",
      "    1024\n",
      "  ],\n",
      "  \"chunk_size_feed_forward\": 0,\n",
      "  \"chunk_size_lm_head\": 0,\n",
      "  \"eos_token_id\": 2,\n",
      "  \"feed_forward_size\": 512,\n",
      "  \"hash_seed\": 0,\n",
      "  \"hidden_act\": \"relu\",\n",
      "  \"hidden_dropout_prob\": 0.05,\n",
      "  \"hidden_size\": 256,\n",
      "  \"initializer_range\": 0.02,\n",
      "  \"intermediate_size\": 3072,\n",
      "  \"is_decoder\": true,\n",
      "  \"layer_norm_eps\": 1e-12,\n",
      "  \"local_attention_probs_dropout_prob\": 0.05,\n",
      "  \"local_attn_chunk_length\": 64,\n",
      "  \"local_num_chunks_after\": 0,\n",
      "  \"local_num_chunks_before\": 1,\n",
      "  \"lsh_attention_probs_dropout_prob\": 0.0,\n",
      "  \"lsh_attn_chunk_length\": 64,\n",
      "  \"lsh_num_chunks_after\": 0,\n",
      "  \"lsh_num_chunks_before\": 1,\n",
      "  \"max_position_embeddings\": 524288,\n",
      "  \"model_type\": \"reformer\",\n",
      "  \"num_attention_heads\": 2,\n",
      "  \"num_buckets\": [\n",
      "    64,\n",
      "    128\n",
      "  ],\n",
      "  \"num_chunks_after\": 0,\n",
      "  \"num_chunks_before\": 1,\n",
      "  \"num_hashes\": 1,\n",
      "  \"num_hidden_layers\": 6,\n",
      "  \"output_past\": true,\n",
      "  \"pad_token_id\": 0,\n",
      "  \"vocab_size\": 320\n",
      "}\n",
      "\n"
     ]
    }
   ],
   "source": [
    " config = AutoConfig.from_pretrained(model_args.model_name_or_path,\n",
    "        cache_dir=model_args.cache_dir,\n",
    "    )"
   ]
  },
  {
   "cell_type": "code",
   "execution_count": 14,
   "metadata": {},
   "outputs": [
    {
     "name": "stderr",
     "output_type": "stream",
     "text": [
      "I0508 04:32:00.536121 139738724797312 configuration_utils.py:285] loading configuration file https://s3.amazonaws.com/models.huggingface.co/bert/google/reformer-crime-and-punishment/config.json from cache at /home/u37216/.cache/torch/transformers/74be8efac14e2092c5e89b76a2e512b088b4516b3971c6328db52a22278ab3a6.c45c6a743fd11cbe6b5e4c683093a9b5aa7441857744454e0cb36d6168d704b9\n",
      "I0508 04:32:00.538853 139738724797312 configuration_utils.py:321] Model config ReformerConfig {\n",
      "  \"architectures\": [\n",
      "    \"ReformerModelWithLMHead\"\n",
      "  ],\n",
      "  \"attention_head_size\": 64,\n",
      "  \"attention_probs_dropout_prob\": 0.1,\n",
      "  \"attn_layers\": [\n",
      "    \"local\",\n",
      "    \"lsh\",\n",
      "    \"local\",\n",
      "    \"lsh\",\n",
      "    \"local\",\n",
      "    \"lsh\"\n",
      "  ],\n",
      "  \"axial_norm_std\": 1.0,\n",
      "  \"axial_pos_embds\": true,\n",
      "  \"axial_pos_embds_dim\": [\n",
      "    64,\n",
      "    192\n",
      "  ],\n",
      "  \"axial_pos_shape\": [\n",
      "    512,\n",
      "    1024\n",
      "  ],\n",
      "  \"chunk_size_feed_forward\": 0,\n",
      "  \"chunk_size_lm_head\": 0,\n",
      "  \"eos_token_id\": 2,\n",
      "  \"feed_forward_size\": 512,\n",
      "  \"hash_seed\": 0,\n",
      "  \"hidden_act\": \"relu\",\n",
      "  \"hidden_dropout_prob\": 0.05,\n",
      "  \"hidden_size\": 256,\n",
      "  \"initializer_range\": 0.02,\n",
      "  \"intermediate_size\": 3072,\n",
      "  \"is_decoder\": true,\n",
      "  \"layer_norm_eps\": 1e-12,\n",
      "  \"local_attention_probs_dropout_prob\": 0.05,\n",
      "  \"local_attn_chunk_length\": 64,\n",
      "  \"local_num_chunks_after\": 0,\n",
      "  \"local_num_chunks_before\": 1,\n",
      "  \"lsh_attention_probs_dropout_prob\": 0.0,\n",
      "  \"lsh_attn_chunk_length\": 64,\n",
      "  \"lsh_num_chunks_after\": 0,\n",
      "  \"lsh_num_chunks_before\": 1,\n",
      "  \"max_position_embeddings\": 524288,\n",
      "  \"model_type\": \"reformer\",\n",
      "  \"num_attention_heads\": 2,\n",
      "  \"num_buckets\": [\n",
      "    64,\n",
      "    128\n",
      "  ],\n",
      "  \"num_chunks_after\": 0,\n",
      "  \"num_chunks_before\": 1,\n",
      "  \"num_hashes\": 1,\n",
      "  \"num_hidden_layers\": 6,\n",
      "  \"output_past\": true,\n",
      "  \"pad_token_id\": 0,\n",
      "  \"vocab_size\": 320\n",
      "}\n",
      "\n",
      "I0508 04:32:00.748876 139738724797312 tokenization_utils.py:1011] loading file https://cdn.huggingface.co/google/reformer-crime-and-punishment/spiece.model from cache at /home/u37216/.cache/torch/transformers/e30ed5d9fa3666d7e34c1f407e307ed1f545c0cffa5b3bdd25e7e811e8b4d8a4.68e33ba1d0d1fbe3d237ae7634450b01bcb9696d247081f403babcdecb3821ab\n"
     ]
    }
   ],
   "source": [
    "tokenizer = AutoTokenizer.from_pretrained(model_args.model_name_or_path,\n",
    "                                         cache_dir=model_args.cache_dir)"
   ]
  },
  {
   "cell_type": "code",
   "execution_count": 34,
   "metadata": {},
   "outputs": [
    {
     "name": "stderr",
     "output_type": "stream",
     "text": [
      "I0508 04:56:28.640970 139738724797312 modeling_utils.py:617] loading weights file https://cdn.huggingface.co/google/reformer-crime-and-punishment/pytorch_model.bin from cache at /home/u37216/.cache/torch/transformers/d9a22bfe046ba8e5a5024c1e865fb6427fa65d89dea0ab5ce04203f62b547514.13b78d45da98951635d331bd43a4359c5b4030b5a4d597f9a2a3682600457b46\n",
      "I0508 04:56:28.742543 139738724797312 modeling_utils.py:708] Weights of ReformerModelWithLMHead not initialized from pretrained model: ['reformer.encoder.layers.0.attention.self_attention.mask_value_float16', 'reformer.encoder.layers.0.attention.self_attention.mask_value_float32', 'reformer.encoder.layers.1.attention.self_attention.self_mask_value_float16', 'reformer.encoder.layers.1.attention.self_attention.self_mask_value_float32', 'reformer.encoder.layers.1.attention.self_attention.mask_value_float16', 'reformer.encoder.layers.1.attention.self_attention.mask_value_float32', 'reformer.encoder.layers.2.attention.self_attention.mask_value_float16', 'reformer.encoder.layers.2.attention.self_attention.mask_value_float32', 'reformer.encoder.layers.3.attention.self_attention.self_mask_value_float16', 'reformer.encoder.layers.3.attention.self_attention.self_mask_value_float32', 'reformer.encoder.layers.3.attention.self_attention.mask_value_float16', 'reformer.encoder.layers.3.attention.self_attention.mask_value_float32', 'reformer.encoder.layers.4.attention.self_attention.mask_value_float16', 'reformer.encoder.layers.4.attention.self_attention.mask_value_float32', 'reformer.encoder.layers.5.attention.self_attention.self_mask_value_float16', 'reformer.encoder.layers.5.attention.self_attention.self_mask_value_float32', 'reformer.encoder.layers.5.attention.self_attention.mask_value_float16', 'reformer.encoder.layers.5.attention.self_attention.mask_value_float32']\n"
     ]
    }
   ],
   "source": [
    "model = AutoModelWithLMHead.from_pretrained(model_args.model_name_or_path,\n",
    "                                           config = config)\n"
   ]
  },
  {
   "cell_type": "code",
   "execution_count": 18,
   "metadata": {},
   "outputs": [
    {
     "data": {
      "text/plain": [
       "Embedding(320, 256)"
      ]
     },
     "execution_count": 18,
     "metadata": {},
     "output_type": "execute_result"
    }
   ],
   "source": [
    "model.resize_token_embeddings(len(tokenizer))"
   ]
  },
  {
   "cell_type": "code",
   "execution_count": 20,
   "metadata": {},
   "outputs": [],
   "source": [
    "if data_args.block_size <= 0:\n",
    "    data_args.block_size = tokenizer.max_len\n",
    "else:\n",
    "    data_args.block_size = min(data_args.block_size, tokenizer.max_len)"
   ]
  },
  {
   "cell_type": "code",
   "execution_count": 21,
   "metadata": {},
   "outputs": [
    {
     "name": "stderr",
     "output_type": "stream",
     "text": [
      "I0508 04:34:17.513707 139738724797312 language_modeling.py:43] Loading features from cached file /home/u37216/data/wikitext-2-raw/cached_lm_ReformerTokenizer_524288_wiki.train.raw [took 0.199 s]\n",
      "I0508 04:34:17.545947 139738724797312 language_modeling.py:43] Loading features from cached file /home/u37216/data/wikitext-2-raw/cached_lm_ReformerTokenizer_524288_wiki.valid.raw [took 0.029 s]\n"
     ]
    }
   ],
   "source": [
    "train_dataset = (\n",
    "    get_dataset(data_args, tokenizer=tokenizer, local_rank=training_args.local_rank)\n",
    "    if training_args.do_train\n",
    "    else None\n",
    ")\n",
    "eval_dataset = (\n",
    "    get_dataset(data_args, tokenizer=tokenizer, local_rank=training_args.local_rank, evaluate=True)\n",
    "    if training_args.do_eval\n",
    "    else None\n",
    ")"
   ]
  },
  {
   "cell_type": "code",
   "execution_count": 24,
   "metadata": {},
   "outputs": [],
   "source": [
    "data_collator = DataCollatorForLanguageModeling(\n",
    "        tokenizer=tokenizer, mlm=data_args.mlm, mlm_probability=data_args.mlm_probability\n",
    "    )"
   ]
  },
  {
   "cell_type": "code",
   "execution_count": 22,
   "metadata": {},
   "outputs": [
    {
     "data": {
      "text/plain": [
       "tensor([258,   0, 258,  ..., 210, 262,   6])"
      ]
     },
     "execution_count": 22,
     "metadata": {},
     "output_type": "execute_result"
    }
   ],
   "source": [
    "train_dataset[0]"
   ]
  },
  {
   "cell_type": "code",
   "execution_count": 35,
   "metadata": {},
   "outputs": [],
   "source": [
    "trainer = Trainer(\n",
    "        model=model,\n",
    "        args=training_args,\n",
    "        data_collator=data_collator,\n",
    "        train_dataset=train_dataset,\n",
    "        eval_dataset=eval_dataset,\n",
    "        prediction_loss_only=True,\n",
    "            )"
   ]
  },
  {
   "cell_type": "code",
   "execution_count": 26,
   "metadata": {},
   "outputs": [],
   "source": [
    "model_path = model_args.model_name_or_path"
   ]
  },
  {
   "cell_type": "code",
   "execution_count": 36,
   "metadata": {},
   "outputs": [
    {
     "data": {
      "text/html": [
       "\n",
       "                Logging results to <a href=\"https://wandb.com\" target=\"_blank\">Weights & Biases</a> <a href=\"https://docs.wandb.com/integrations/jupyter.html\" target=\"_blank\">(Documentation)</a>.<br/>\n",
       "                Project page: <a href=\"https://app.wandb.ai/calvin/fluence-examples\" target=\"_blank\">https://app.wandb.ai/calvin/fluence-examples</a><br/>\n",
       "                Run page: <a href=\"https://app.wandb.ai/calvin/fluence-examples/runs/2gtdtjfa\" target=\"_blank\">https://app.wandb.ai/calvin/fluence-examples/runs/2gtdtjfa</a><br/>\n",
       "            "
      ],
      "text/plain": [
       "<IPython.core.display.HTML object>"
      ]
     },
     "metadata": {},
     "output_type": "display_data"
    },
    {
     "name": "stderr",
     "output_type": "stream",
     "text": [
      "E0508 04:56:36.459468 139738724797312 jupyter.py:106] Failed to query for notebook name, you can set it manually with the WANDB_NOTEBOOK_NAME environment variable\n",
      "I0508 04:56:37.079992 139738724797312 run_manager.py:927] system metrics and metadata threads started\n",
      "I0508 04:56:37.083288 139738724797312 run_manager.py:936] checking resume status, waiting at most 10 seconds\n",
      "I0508 04:56:37.203402 139738724797312 run_manager.py:954] resuming run from id: UnVuOnYxOjJndGR0amZhOmZsdWVuY2UtZXhhbXBsZXM6Y2Fsdmlu\n",
      "I0508 04:56:37.249498 139738724797312 run_manager.py:966] upserting run before process can begin, waiting at most 10 seconds\n",
      "I0508 04:56:37.382089 139734131074816 run_manager.py:1051] saving patches\n",
      "I0508 04:56:37.620789 139734729029376 run_manager.py:691] file/dir modified: /home/u37216/fluence/examples/wandb/run-20200508_115635-2gtdtjfa/config.yaml\n",
      "I0508 04:56:40.993094 139734131074816 run_manager.py:1055] saving pip packages\n",
      "I0508 04:56:41.004132 139734131074816 run_manager.py:1057] initializing streaming files api\n",
      "I0508 04:56:41.008412 139734131074816 run_manager.py:1064] unblocking file change observer, beginning sync with W&B servers\n",
      "I0508 04:56:41.020080 139738724797312 trainer.py:338] ***** Running training *****\n",
      "I0508 04:56:41.057390 139738724797312 trainer.py:339]   Num examples = 11\n",
      "I0508 04:56:41.059196 139738724797312 trainer.py:340]   Num Epochs = 3\n",
      "I0508 04:56:41.060755 139738724797312 trainer.py:341]   Instantaneous batch size per device = 4\n",
      "I0508 04:56:41.062230 139738724797312 trainer.py:342]   Total train batch size (w. parallel, distributed & accumulation) = 4\n",
      "I0508 04:56:41.065014 139738724797312 trainer.py:343]   Gradient Accumulation steps = 1\n",
      "I0508 04:56:41.066917 139738724797312 trainer.py:344]   Total optimization steps = 9\n",
      "I0508 04:56:41.068489 139738724797312 trainer.py:365]   Starting fine-tuning.\n"
     ]
    },
    {
     "data": {
      "application/vnd.jupyter.widget-view+json": {
       "model_id": "21aa547be4464546b37fa5f8ec13492f",
       "version_major": 2,
       "version_minor": 0
      },
      "text/plain": [
       "A Jupyter Widget"
      ]
     },
     "metadata": {},
     "output_type": "display_data"
    },
    {
     "data": {
      "application/vnd.jupyter.widget-view+json": {
       "model_id": "a50ef50d64424af6a6c4230919271ea7",
       "version_major": 2,
       "version_minor": 0
      },
      "text/plain": [
       "A Jupyter Widget"
      ]
     },
     "metadata": {},
     "output_type": "display_data"
    },
    {
     "name": "stderr",
     "output_type": "stream",
     "text": [
      "I0508 04:56:41.243750 139734729029376 run_manager.py:680] file/dir created: /home/u37216/fluence/examples/wandb/run-20200508_115635-2gtdtjfa/wandb-summary.json\n",
      "I0508 04:56:41.247102 139734729029376 run_manager.py:680] file/dir created: /home/u37216/fluence/examples/wandb/run-20200508_115635-2gtdtjfa/wandb-metadata.json\n",
      "I0508 04:56:41.249053 139734729029376 run_manager.py:680] file/dir created: /home/u37216/fluence/examples/wandb/run-20200508_115635-2gtdtjfa/wandb-events.jsonl\n",
      "I0508 04:56:41.251227 139734729029376 run_manager.py:680] file/dir created: /home/u37216/fluence/examples/wandb/run-20200508_115635-2gtdtjfa/wandb-history.jsonl\n",
      "I0508 04:56:41.253332 139734729029376 run_manager.py:680] file/dir created: /home/u37216/fluence/examples/wandb/run-20200508_115635-2gtdtjfa/diff.patch\n",
      "I0508 04:56:41.254809 139734729029376 run_manager.py:691] file/dir modified: /home/u37216/fluence/examples/wandb/run-20200508_115635-2gtdtjfa/diff.patch\n",
      "I0508 04:56:41.256131 139734729029376 run_manager.py:680] file/dir created: /home/u37216/fluence/examples/wandb/run-20200508_115635-2gtdtjfa/upstream_diff_836b0e7ff15d73ad508a848f5058453db95e7c6e.patch\n",
      "I0508 04:56:41.671513 139734729029376 run_manager.py:691] file/dir modified: /home/u37216/fluence/examples/wandb/run-20200508_115635-2gtdtjfa/upstream_diff_836b0e7ff15d73ad508a848f5058453db95e7c6e.patch\n",
      "I0508 04:56:41.672709 139734729029376 run_manager.py:680] file/dir created: /home/u37216/fluence/examples/wandb/run-20200508_115635-2gtdtjfa/requirements.txt\n",
      "I0508 04:56:53.326678 139734729029376 run_manager.py:691] file/dir modified: /home/u37216/fluence/examples/wandb/run-20200508_115635-2gtdtjfa/wandb-metadata.json\n",
      "I0508 04:57:08.351643 139734729029376 run_manager.py:691] file/dir modified: /home/u37216/fluence/examples/wandb/run-20200508_115635-2gtdtjfa/wandb-events.jsonl\n",
      "I0508 04:57:09.352296 139734729029376 run_manager.py:691] file/dir modified: /home/u37216/fluence/examples/wandb/run-20200508_115635-2gtdtjfa/wandb-metadata.json\n",
      "I0508 04:57:25.373838 139734729029376 run_manager.py:691] file/dir modified: /home/u37216/fluence/examples/wandb/run-20200508_115635-2gtdtjfa/wandb-metadata.json\n",
      "I0508 04:57:39.731001 139734729029376 run_manager.py:691] file/dir modified: /home/u37216/fluence/examples/wandb/run-20200508_115635-2gtdtjfa/wandb-events.jsonl\n",
      "I0508 04:57:41.731321 139734729029376 run_manager.py:691] file/dir modified: /home/u37216/fluence/examples/wandb/run-20200508_115635-2gtdtjfa/wandb-metadata.json\n",
      "I0508 04:57:57.862015 139734729029376 run_manager.py:691] file/dir modified: /home/u37216/fluence/examples/wandb/run-20200508_115635-2gtdtjfa/wandb-metadata.json\n",
      "I0508 04:58:09.875545 139734729029376 run_manager.py:691] file/dir modified: /home/u37216/fluence/examples/wandb/run-20200508_115635-2gtdtjfa/wandb-events.jsonl\n",
      "I0508 04:58:13.880071 139734729029376 run_manager.py:691] file/dir modified: /home/u37216/fluence/examples/wandb/run-20200508_115635-2gtdtjfa/wandb-metadata.json\n",
      "I0508 04:58:30.168434 139734729029376 run_manager.py:691] file/dir modified: /home/u37216/fluence/examples/wandb/run-20200508_115635-2gtdtjfa/wandb-metadata.json\n",
      "I0508 04:58:41.357806 139734729029376 run_manager.py:691] file/dir modified: /home/u37216/fluence/examples/wandb/run-20200508_115635-2gtdtjfa/wandb-events.jsonl\n",
      "I0508 04:58:46.363635 139734729029376 run_manager.py:691] file/dir modified: /home/u37216/fluence/examples/wandb/run-20200508_115635-2gtdtjfa/wandb-metadata.json\n",
      "I0508 04:59:02.381884 139734729029376 run_manager.py:691] file/dir modified: /home/u37216/fluence/examples/wandb/run-20200508_115635-2gtdtjfa/wandb-metadata.json\n",
      "I0508 04:59:12.510935 139734729029376 run_manager.py:691] file/dir modified: /home/u37216/fluence/examples/wandb/run-20200508_115635-2gtdtjfa/wandb-events.jsonl\n",
      "I0508 04:59:17.629853 139734729029376 run_manager.py:691] file/dir modified: /home/u37216/fluence/examples/wandb/run-20200508_115635-2gtdtjfa/wandb-summary.json\n",
      "I0508 04:59:17.632809 139734729029376 run_manager.py:680] file/dir created: /home/u37216/fluence/examples/wandb/run-20200508_115635-2gtdtjfa/media/graph/graph_0_summary_8e7651b5.graph.json\n",
      "I0508 04:59:17.634785 139734729029376 run_manager.py:680] file/dir created: /home/u37216/fluence/examples/wandb/run-20200508_115635-2gtdtjfa/media\n",
      "I0508 04:59:17.636533 139734729029376 run_manager.py:680] file/dir created: /home/u37216/fluence/examples/wandb/run-20200508_115635-2gtdtjfa/media/graph\n",
      "I0508 04:59:18.753602 139734729029376 run_manager.py:691] file/dir modified: /home/u37216/fluence/examples/wandb/run-20200508_115635-2gtdtjfa/wandb-metadata.json\n",
      "I0508 04:59:20.759712 139734729029376 run_manager.py:691] file/dir modified: /home/u37216/fluence/examples/wandb/run-20200508_115635-2gtdtjfa/wandb-summary.json\n",
      "I0508 04:59:34.790458 139734729029376 run_manager.py:691] file/dir modified: /home/u37216/fluence/examples/wandb/run-20200508_115635-2gtdtjfa/wandb-metadata.json\n",
      "I0508 04:59:43.803908 139734729029376 run_manager.py:691] file/dir modified: /home/u37216/fluence/examples/wandb/run-20200508_115635-2gtdtjfa/wandb-events.jsonl\n",
      "I0508 04:59:50.816982 139734729029376 run_manager.py:691] file/dir modified: /home/u37216/fluence/examples/wandb/run-20200508_115635-2gtdtjfa/wandb-metadata.json\n",
      "I0508 05:00:06.908046 139734729029376 run_manager.py:691] file/dir modified: /home/u37216/fluence/examples/wandb/run-20200508_115635-2gtdtjfa/wandb-metadata.json\n",
      "I0508 05:00:13.919086 139734729029376 run_manager.py:691] file/dir modified: /home/u37216/fluence/examples/wandb/run-20200508_115635-2gtdtjfa/wandb-events.jsonl\n",
      "I0508 05:00:22.932621 139734729029376 run_manager.py:691] file/dir modified: /home/u37216/fluence/examples/wandb/run-20200508_115635-2gtdtjfa/wandb-metadata.json\n",
      "I0508 05:00:38.960578 139734729029376 run_manager.py:691] file/dir modified: /home/u37216/fluence/examples/wandb/run-20200508_115635-2gtdtjfa/wandb-metadata.json\n",
      "I0508 05:00:44.492960 139734729029376 run_manager.py:691] file/dir modified: /home/u37216/fluence/examples/wandb/run-20200508_115635-2gtdtjfa/wandb-events.jsonl\n",
      "I0508 05:00:55.043357 139734729029376 run_manager.py:691] file/dir modified: /home/u37216/fluence/examples/wandb/run-20200508_115635-2gtdtjfa/wandb-metadata.json\n",
      "I0508 05:01:11.069537 139734729029376 run_manager.py:691] file/dir modified: /home/u37216/fluence/examples/wandb/run-20200508_115635-2gtdtjfa/wandb-metadata.json\n",
      "I0508 05:01:17.076840 139734729029376 run_manager.py:691] file/dir modified: /home/u37216/fluence/examples/wandb/run-20200508_115635-2gtdtjfa/wandb-events.jsonl\n",
      "I0508 05:01:27.386658 139734729029376 run_manager.py:691] file/dir modified: /home/u37216/fluence/examples/wandb/run-20200508_115635-2gtdtjfa/wandb-metadata.json\n",
      "I0508 05:01:43.412077 139734729029376 run_manager.py:691] file/dir modified: /home/u37216/fluence/examples/wandb/run-20200508_115635-2gtdtjfa/wandb-metadata.json\n",
      "I0508 05:01:47.418854 139734729029376 run_manager.py:691] file/dir modified: /home/u37216/fluence/examples/wandb/run-20200508_115635-2gtdtjfa/wandb-events.jsonl\n",
      "I0508 05:01:59.440099 139734729029376 run_manager.py:691] file/dir modified: /home/u37216/fluence/examples/wandb/run-20200508_115635-2gtdtjfa/wandb-metadata.json\n",
      "I0508 05:02:15.466436 139734729029376 run_manager.py:691] file/dir modified: /home/u37216/fluence/examples/wandb/run-20200508_115635-2gtdtjfa/wandb-metadata.json\n",
      "I0508 05:02:17.468849 139734729029376 run_manager.py:691] file/dir modified: /home/u37216/fluence/examples/wandb/run-20200508_115635-2gtdtjfa/wandb-events.jsonl\n",
      "I0508 05:02:31.737053 139734729029376 run_manager.py:691] file/dir modified: /home/u37216/fluence/examples/wandb/run-20200508_115635-2gtdtjfa/wandb-metadata.json\n",
      "I0508 05:02:48.276325 139734729029376 run_manager.py:691] file/dir modified: /home/u37216/fluence/examples/wandb/run-20200508_115635-2gtdtjfa/wandb-metadata.json\n",
      "I0508 05:02:50.332254 139734729029376 run_manager.py:691] file/dir modified: /home/u37216/fluence/examples/wandb/run-20200508_115635-2gtdtjfa/wandb-events.jsonl\n",
      "I0508 05:03:05.077648 139734729029376 run_manager.py:691] file/dir modified: /home/u37216/fluence/examples/wandb/run-20200508_115635-2gtdtjfa/wandb-metadata.json\n",
      "I0508 05:03:21.103668 139734729029376 run_manager.py:691] file/dir modified: /home/u37216/fluence/examples/wandb/run-20200508_115635-2gtdtjfa/wandb-metadata.json\n",
      "I0508 05:03:22.104766 139734729029376 run_manager.py:691] file/dir modified: /home/u37216/fluence/examples/wandb/run-20200508_115635-2gtdtjfa/wandb-events.jsonl\n",
      "I0508 05:03:37.128780 139734729029376 run_manager.py:691] file/dir modified: /home/u37216/fluence/examples/wandb/run-20200508_115635-2gtdtjfa/wandb-metadata.json\n",
      "I0508 05:03:52.193420 139734729029376 run_manager.py:691] file/dir modified: /home/u37216/fluence/examples/wandb/run-20200508_115635-2gtdtjfa/wandb-events.jsonl\n",
      "I0508 05:03:53.195522 139734729029376 run_manager.py:691] file/dir modified: /home/u37216/fluence/examples/wandb/run-20200508_115635-2gtdtjfa/wandb-metadata.json\n",
      "I0508 05:04:09.220394 139734729029376 run_manager.py:691] file/dir modified: /home/u37216/fluence/examples/wandb/run-20200508_115635-2gtdtjfa/wandb-metadata.json\n",
      "I0508 05:04:23.558094 139734729029376 run_manager.py:691] file/dir modified: /home/u37216/fluence/examples/wandb/run-20200508_115635-2gtdtjfa/wandb-events.jsonl\n",
      "I0508 05:04:25.589485 139734729029376 run_manager.py:691] file/dir modified: /home/u37216/fluence/examples/wandb/run-20200508_115635-2gtdtjfa/wandb-metadata.json\n",
      "I0508 05:04:42.780117 139734729029376 run_manager.py:691] file/dir modified: /home/u37216/fluence/examples/wandb/run-20200508_115635-2gtdtjfa/wandb-metadata.json\n",
      "/pytorch/torch/csrc/utils/python_arg_parser.cpp:756: UserWarning: This overload of add_ is deprecated:\n",
      "\tadd_(Number alpha, Tensor other)\n",
      "Consider using one of the following signatures instead:\n",
      "\tadd_(Tensor other, *, Number alpha)\n",
      "I0508 05:04:55.797903 139734729029376 run_manager.py:691] file/dir modified: /home/u37216/fluence/examples/wandb/run-20200508_115635-2gtdtjfa/wandb-events.jsonl\n",
      "I0508 05:04:58.802809 139734729029376 run_manager.py:691] file/dir modified: /home/u37216/fluence/examples/wandb/run-20200508_115635-2gtdtjfa/wandb-metadata.json\n",
      "I0508 05:05:13.930702 139734729029376 run_manager.py:691] file/dir modified: /home/u37216/fluence/examples/wandb/run-20200508_115635-2gtdtjfa/wandb-metadata.json\n",
      "I0508 05:05:26.953208 139734729029376 run_manager.py:691] file/dir modified: /home/u37216/fluence/examples/wandb/run-20200508_115635-2gtdtjfa/wandb-events.jsonl\n",
      "I0508 05:05:29.957424 139734729029376 run_manager.py:691] file/dir modified: /home/u37216/fluence/examples/wandb/run-20200508_115635-2gtdtjfa/wandb-metadata.json\n",
      "I0508 05:05:46.041565 139734729029376 run_manager.py:691] file/dir modified: /home/u37216/fluence/examples/wandb/run-20200508_115635-2gtdtjfa/wandb-metadata.json\n",
      "I0508 05:05:59.060242 139734729029376 run_manager.py:691] file/dir modified: /home/u37216/fluence/examples/wandb/run-20200508_115635-2gtdtjfa/wandb-events.jsonl\n",
      "I0508 05:06:02.064807 139734729029376 run_manager.py:691] file/dir modified: /home/u37216/fluence/examples/wandb/run-20200508_115635-2gtdtjfa/wandb-metadata.json\n",
      "I0508 05:06:19.098630 139734729029376 run_manager.py:691] file/dir modified: /home/u37216/fluence/examples/wandb/run-20200508_115635-2gtdtjfa/wandb-metadata.json\n",
      "I0508 05:06:29.140677 139734729029376 run_manager.py:691] file/dir modified: /home/u37216/fluence/examples/wandb/run-20200508_115635-2gtdtjfa/wandb-events.jsonl\n",
      "I0508 05:06:34.357825 139734729029376 run_manager.py:691] file/dir modified: /home/u37216/fluence/examples/wandb/run-20200508_115635-2gtdtjfa/wandb-metadata.json\n",
      "I0508 05:06:50.734878 139734729029376 run_manager.py:691] file/dir modified: /home/u37216/fluence/examples/wandb/run-20200508_115635-2gtdtjfa/wandb-metadata.json\n",
      "I0508 05:07:00.752033 139734729029376 run_manager.py:691] file/dir modified: /home/u37216/fluence/examples/wandb/run-20200508_115635-2gtdtjfa/wandb-events.jsonl\n",
      "I0508 05:07:06.761663 139734729029376 run_manager.py:691] file/dir modified: /home/u37216/fluence/examples/wandb/run-20200508_115635-2gtdtjfa/wandb-metadata.json\n",
      "I0508 05:07:23.088854 139734729029376 run_manager.py:691] file/dir modified: /home/u37216/fluence/examples/wandb/run-20200508_115635-2gtdtjfa/wandb-metadata.json\n",
      "I0508 05:07:31.501478 139734729029376 run_manager.py:691] file/dir modified: /home/u37216/fluence/examples/wandb/run-20200508_115635-2gtdtjfa/wandb-events.jsonl\n",
      "I0508 05:07:39.514490 139734729029376 run_manager.py:691] file/dir modified: /home/u37216/fluence/examples/wandb/run-20200508_115635-2gtdtjfa/wandb-metadata.json\n",
      "I0508 05:07:55.574914 139734729029376 run_manager.py:691] file/dir modified: /home/u37216/fluence/examples/wandb/run-20200508_115635-2gtdtjfa/wandb-metadata.json\n",
      "I0508 05:08:02.586088 139734729029376 run_manager.py:691] file/dir modified: /home/u37216/fluence/examples/wandb/run-20200508_115635-2gtdtjfa/wandb-events.jsonl\n",
      "I0508 05:08:11.648266 139734729029376 run_manager.py:691] file/dir modified: /home/u37216/fluence/examples/wandb/run-20200508_115635-2gtdtjfa/wandb-metadata.json\n",
      "I0508 05:08:27.671826 139734729029376 run_manager.py:691] file/dir modified: /home/u37216/fluence/examples/wandb/run-20200508_115635-2gtdtjfa/wandb-metadata.json\n",
      "I0508 05:08:32.679364 139734729029376 run_manager.py:691] file/dir modified: /home/u37216/fluence/examples/wandb/run-20200508_115635-2gtdtjfa/wandb-events.jsonl\n",
      "I0508 05:08:43.699332 139734729029376 run_manager.py:691] file/dir modified: /home/u37216/fluence/examples/wandb/run-20200508_115635-2gtdtjfa/wandb-metadata.json\n",
      "I0508 05:08:59.734927 139734729029376 run_manager.py:691] file/dir modified: /home/u37216/fluence/examples/wandb/run-20200508_115635-2gtdtjfa/wandb-metadata.json\n",
      "I0508 05:09:03.743245 139734729029376 run_manager.py:691] file/dir modified: /home/u37216/fluence/examples/wandb/run-20200508_115635-2gtdtjfa/wandb-events.jsonl\n",
      "I0508 05:09:16.775913 139734729029376 run_manager.py:691] file/dir modified: /home/u37216/fluence/examples/wandb/run-20200508_115635-2gtdtjfa/wandb-metadata.json\n",
      "I0508 05:09:32.204373 139734729029376 run_manager.py:691] file/dir modified: /home/u37216/fluence/examples/wandb/run-20200508_115635-2gtdtjfa/wandb-metadata.json\n",
      "I0508 05:09:36.210560 139734729029376 run_manager.py:691] file/dir modified: /home/u37216/fluence/examples/wandb/run-20200508_115635-2gtdtjfa/wandb-events.jsonl\n",
      "I0508 05:09:48.230707 139734729029376 run_manager.py:691] file/dir modified: /home/u37216/fluence/examples/wandb/run-20200508_115635-2gtdtjfa/wandb-metadata.json\n",
      "I0508 05:10:05.304167 139734729029376 run_manager.py:691] file/dir modified: /home/u37216/fluence/examples/wandb/run-20200508_115635-2gtdtjfa/wandb-metadata.json\n",
      "I0508 05:10:06.305464 139734729029376 run_manager.py:691] file/dir modified: /home/u37216/fluence/examples/wandb/run-20200508_115635-2gtdtjfa/wandb-events.jsonl\n",
      "I0508 05:10:21.329576 139734729029376 run_manager.py:691] file/dir modified: /home/u37216/fluence/examples/wandb/run-20200508_115635-2gtdtjfa/wandb-metadata.json\n",
      "I0508 05:10:36.352861 139734729029376 run_manager.py:691] file/dir modified: /home/u37216/fluence/examples/wandb/run-20200508_115635-2gtdtjfa/wandb-events.jsonl\n",
      "I0508 05:10:36.354358 139734729029376 run_manager.py:691] file/dir modified: /home/u37216/fluence/examples/wandb/run-20200508_115635-2gtdtjfa/wandb-metadata.json\n",
      "I0508 05:10:53.040167 139734729029376 run_manager.py:691] file/dir modified: /home/u37216/fluence/examples/wandb/run-20200508_115635-2gtdtjfa/wandb-metadata.json\n",
      "I0508 05:11:09.377482 139734729029376 run_manager.py:691] file/dir modified: /home/u37216/fluence/examples/wandb/run-20200508_115635-2gtdtjfa/wandb-events.jsonl\n",
      "I0508 05:11:09.382157 139734729029376 run_manager.py:691] file/dir modified: /home/u37216/fluence/examples/wandb/run-20200508_115635-2gtdtjfa/wandb-metadata.json\n",
      "I0508 05:11:26.018232 139734729029376 run_manager.py:691] file/dir modified: /home/u37216/fluence/examples/wandb/run-20200508_115635-2gtdtjfa/wandb-metadata.json\n",
      "I0508 05:11:41.101508 139734729029376 run_manager.py:691] file/dir modified: /home/u37216/fluence/examples/wandb/run-20200508_115635-2gtdtjfa/wandb-events.jsonl\n",
      "I0508 05:11:42.102771 139734729029376 run_manager.py:691] file/dir modified: /home/u37216/fluence/examples/wandb/run-20200508_115635-2gtdtjfa/wandb-metadata.json\n",
      "I0508 05:11:58.127022 139734729029376 run_manager.py:691] file/dir modified: /home/u37216/fluence/examples/wandb/run-20200508_115635-2gtdtjfa/wandb-metadata.json\n",
      "I0508 05:12:11.223043 139734729029376 run_manager.py:691] file/dir modified: /home/u37216/fluence/examples/wandb/run-20200508_115635-2gtdtjfa/wandb-events.jsonl\n",
      "I0508 05:12:14.227121 139734729029376 run_manager.py:691] file/dir modified: /home/u37216/fluence/examples/wandb/run-20200508_115635-2gtdtjfa/wandb-metadata.json\n",
      "I0508 05:12:30.252756 139734729029376 run_manager.py:691] file/dir modified: /home/u37216/fluence/examples/wandb/run-20200508_115635-2gtdtjfa/wandb-metadata.json\n",
      "I0508 05:12:43.276050 139734729029376 run_manager.py:691] file/dir modified: /home/u37216/fluence/examples/wandb/run-20200508_115635-2gtdtjfa/wandb-events.jsonl\n",
      "I0508 05:12:46.280531 139734729029376 run_manager.py:691] file/dir modified: /home/u37216/fluence/examples/wandb/run-20200508_115635-2gtdtjfa/wandb-metadata.json\n",
      "I0508 05:13:02.479602 139734729029376 run_manager.py:691] file/dir modified: /home/u37216/fluence/examples/wandb/run-20200508_115635-2gtdtjfa/wandb-metadata.json\n",
      "I0508 05:13:15.538453 139734729029376 run_manager.py:691] file/dir modified: /home/u37216/fluence/examples/wandb/run-20200508_115635-2gtdtjfa/wandb-events.jsonl\n",
      "I0508 05:13:18.543725 139734729029376 run_manager.py:691] file/dir modified: /home/u37216/fluence/examples/wandb/run-20200508_115635-2gtdtjfa/wandb-metadata.json\n",
      "I0508 05:13:34.579069 139734729029376 run_manager.py:691] file/dir modified: /home/u37216/fluence/examples/wandb/run-20200508_115635-2gtdtjfa/wandb-metadata.json\n",
      "I0508 05:13:46.917266 139734729029376 run_manager.py:691] file/dir modified: /home/u37216/fluence/examples/wandb/run-20200508_115635-2gtdtjfa/wandb-events.jsonl\n",
      "I0508 05:13:51.100883 139734729029376 run_manager.py:691] file/dir modified: /home/u37216/fluence/examples/wandb/run-20200508_115635-2gtdtjfa/wandb-metadata.json\n",
      "I0508 05:14:07.127557 139734729029376 run_manager.py:691] file/dir modified: /home/u37216/fluence/examples/wandb/run-20200508_115635-2gtdtjfa/wandb-metadata.json\n",
      "I0508 05:14:17.366951 139734729029376 run_manager.py:691] file/dir modified: /home/u37216/fluence/examples/wandb/run-20200508_115635-2gtdtjfa/wandb-events.jsonl\n",
      "I0508 05:14:23.448706 139734729029376 run_manager.py:691] file/dir modified: /home/u37216/fluence/examples/wandb/run-20200508_115635-2gtdtjfa/wandb-metadata.json\n",
      "I0508 05:14:39.723246 139734729029376 run_manager.py:691] file/dir modified: /home/u37216/fluence/examples/wandb/run-20200508_115635-2gtdtjfa/wandb-metadata.json\n",
      "I0508 05:14:48.820189 139734729029376 run_manager.py:691] file/dir modified: /home/u37216/fluence/examples/wandb/run-20200508_115635-2gtdtjfa/wandb-events.jsonl\n",
      "I0508 05:14:55.831076 139734729029376 run_manager.py:691] file/dir modified: /home/u37216/fluence/examples/wandb/run-20200508_115635-2gtdtjfa/wandb-metadata.json\n",
      "I0508 05:15:11.290096 139734729029376 run_manager.py:691] file/dir modified: /home/u37216/fluence/examples/wandb/run-20200508_115635-2gtdtjfa/wandb-metadata.json\n",
      "I0508 05:15:19.301543 139734729029376 run_manager.py:691] file/dir modified: /home/u37216/fluence/examples/wandb/run-20200508_115635-2gtdtjfa/wandb-events.jsonl\n",
      "I0508 05:15:27.314356 139734729029376 run_manager.py:691] file/dir modified: /home/u37216/fluence/examples/wandb/run-20200508_115635-2gtdtjfa/wandb-metadata.json\n",
      "I0508 05:15:43.378709 139734729029376 run_manager.py:691] file/dir modified: /home/u37216/fluence/examples/wandb/run-20200508_115635-2gtdtjfa/wandb-metadata.json\n",
      "I0508 05:15:50.395089 139734729029376 run_manager.py:691] file/dir modified: /home/u37216/fluence/examples/wandb/run-20200508_115635-2gtdtjfa/wandb-events.jsonl\n",
      "I0508 05:15:59.409561 139734729029376 run_manager.py:691] file/dir modified: /home/u37216/fluence/examples/wandb/run-20200508_115635-2gtdtjfa/wandb-metadata.json\n",
      "I0508 05:16:15.934511 139734729029376 run_manager.py:691] file/dir modified: /home/u37216/fluence/examples/wandb/run-20200508_115635-2gtdtjfa/wandb-metadata.json\n",
      "I0508 05:16:20.942090 139734729029376 run_manager.py:691] file/dir modified: /home/u37216/fluence/examples/wandb/run-20200508_115635-2gtdtjfa/wandb-events.jsonl\n",
      "I0508 05:16:32.186205 139734729029376 run_manager.py:691] file/dir modified: /home/u37216/fluence/examples/wandb/run-20200508_115635-2gtdtjfa/wandb-metadata.json\n",
      "I0508 05:16:49.705684 139734729029376 run_manager.py:691] file/dir modified: /home/u37216/fluence/examples/wandb/run-20200508_115635-2gtdtjfa/wandb-metadata.json\n",
      "I0508 05:16:52.783846 139734729029376 run_manager.py:691] file/dir modified: /home/u37216/fluence/examples/wandb/run-20200508_115635-2gtdtjfa/wandb-events.jsonl\n",
      "I0508 05:17:04.804374 139734729029376 run_manager.py:691] file/dir modified: /home/u37216/fluence/examples/wandb/run-20200508_115635-2gtdtjfa/wandb-metadata.json\n",
      "I0508 05:17:20.828839 139734729029376 run_manager.py:691] file/dir modified: /home/u37216/fluence/examples/wandb/run-20200508_115635-2gtdtjfa/wandb-metadata.json\n",
      "I0508 05:17:22.831346 139734729029376 run_manager.py:691] file/dir modified: /home/u37216/fluence/examples/wandb/run-20200508_115635-2gtdtjfa/wandb-events.jsonl\n",
      "I0508 05:17:37.435185 139734729029376 run_manager.py:691] file/dir modified: /home/u37216/fluence/examples/wandb/run-20200508_115635-2gtdtjfa/wandb-metadata.json\n",
      "I0508 05:17:53.849652 139734729029376 run_manager.py:691] file/dir modified: /home/u37216/fluence/examples/wandb/run-20200508_115635-2gtdtjfa/wandb-metadata.json\n",
      "I0508 05:17:55.043235 139734729029376 run_manager.py:691] file/dir modified: /home/u37216/fluence/examples/wandb/run-20200508_115635-2gtdtjfa/wandb-events.jsonl\n",
      "I0508 05:18:11.089612 139734729029376 run_manager.py:691] file/dir modified: /home/u37216/fluence/examples/wandb/run-20200508_115635-2gtdtjfa/wandb-metadata.json\n",
      "I0508 05:18:26.112723 139734729029376 run_manager.py:691] file/dir modified: /home/u37216/fluence/examples/wandb/run-20200508_115635-2gtdtjfa/wandb-events.jsonl\n",
      "I0508 05:18:26.114237 139734729029376 run_manager.py:691] file/dir modified: /home/u37216/fluence/examples/wandb/run-20200508_115635-2gtdtjfa/wandb-metadata.json\n",
      "I0508 05:18:42.154993 139734729029376 run_manager.py:691] file/dir modified: /home/u37216/fluence/examples/wandb/run-20200508_115635-2gtdtjfa/wandb-metadata.json\n",
      "I0508 05:18:56.664491 139734729029376 run_manager.py:691] file/dir modified: /home/u37216/fluence/examples/wandb/run-20200508_115635-2gtdtjfa/wandb-events.jsonl\n",
      "I0508 05:18:58.667349 139734729029376 run_manager.py:691] file/dir modified: /home/u37216/fluence/examples/wandb/run-20200508_115635-2gtdtjfa/wandb-metadata.json\n"
     ]
    },
    {
     "name": "stdout",
     "output_type": "stream",
     "text": [
      "\n"
     ]
    },
    {
     "data": {
      "application/vnd.jupyter.widget-view+json": {
       "model_id": "291c3f5737c9451c833935a84c64a8f3",
       "version_major": 2,
       "version_minor": 0
      },
      "text/plain": [
       "A Jupyter Widget"
      ]
     },
     "metadata": {},
     "output_type": "display_data"
    },
    {
     "name": "stderr",
     "output_type": "stream",
     "text": [
      "I0508 05:19:15.118388 139734729029376 run_manager.py:691] file/dir modified: /home/u37216/fluence/examples/wandb/run-20200508_115635-2gtdtjfa/wandb-metadata.json\n",
      "I0508 05:19:29.276127 139734729029376 run_manager.py:691] file/dir modified: /home/u37216/fluence/examples/wandb/run-20200508_115635-2gtdtjfa/wandb-events.jsonl\n",
      "I0508 05:19:31.279046 139734729029376 run_manager.py:691] file/dir modified: /home/u37216/fluence/examples/wandb/run-20200508_115635-2gtdtjfa/wandb-metadata.json\n",
      "I0508 05:19:47.315123 139734729029376 run_manager.py:691] file/dir modified: /home/u37216/fluence/examples/wandb/run-20200508_115635-2gtdtjfa/wandb-metadata.json\n",
      "I0508 05:19:59.348497 139734729029376 run_manager.py:691] file/dir modified: /home/u37216/fluence/examples/wandb/run-20200508_115635-2gtdtjfa/wandb-events.jsonl\n",
      "I0508 05:20:03.353379 139734729029376 run_manager.py:691] file/dir modified: /home/u37216/fluence/examples/wandb/run-20200508_115635-2gtdtjfa/wandb-metadata.json\n",
      "I0508 05:20:19.499347 139734729029376 run_manager.py:691] file/dir modified: /home/u37216/fluence/examples/wandb/run-20200508_115635-2gtdtjfa/wandb-metadata.json\n",
      "I0508 05:20:30.581614 139734729029376 run_manager.py:691] file/dir modified: /home/u37216/fluence/examples/wandb/run-20200508_115635-2gtdtjfa/wandb-events.jsonl\n",
      "I0508 05:20:35.589111 139734729029376 run_manager.py:691] file/dir modified: /home/u37216/fluence/examples/wandb/run-20200508_115635-2gtdtjfa/wandb-metadata.json\n",
      "I0508 05:20:51.617752 139734729029376 run_manager.py:691] file/dir modified: /home/u37216/fluence/examples/wandb/run-20200508_115635-2gtdtjfa/wandb-metadata.json\n",
      "I0508 05:21:01.758969 139734729029376 run_manager.py:691] file/dir modified: /home/u37216/fluence/examples/wandb/run-20200508_115635-2gtdtjfa/wandb-events.jsonl\n",
      "I0508 05:21:07.957369 139734729029376 run_manager.py:691] file/dir modified: /home/u37216/fluence/examples/wandb/run-20200508_115635-2gtdtjfa/wandb-metadata.json\n",
      "I0508 05:21:23.984891 139734729029376 run_manager.py:691] file/dir modified: /home/u37216/fluence/examples/wandb/run-20200508_115635-2gtdtjfa/wandb-metadata.json\n",
      "I0508 05:21:32.998802 139734729029376 run_manager.py:691] file/dir modified: /home/u37216/fluence/examples/wandb/run-20200508_115635-2gtdtjfa/wandb-events.jsonl\n",
      "I0508 05:21:40.010863 139734729029376 run_manager.py:691] file/dir modified: /home/u37216/fluence/examples/wandb/run-20200508_115635-2gtdtjfa/wandb-metadata.json\n",
      "I0508 05:21:56.158242 139734729029376 run_manager.py:691] file/dir modified: /home/u37216/fluence/examples/wandb/run-20200508_115635-2gtdtjfa/wandb-metadata.json\n",
      "I0508 05:22:04.169294 139734729029376 run_manager.py:691] file/dir modified: /home/u37216/fluence/examples/wandb/run-20200508_115635-2gtdtjfa/wandb-events.jsonl\n",
      "I0508 05:22:12.331418 139734729029376 run_manager.py:691] file/dir modified: /home/u37216/fluence/examples/wandb/run-20200508_115635-2gtdtjfa/wandb-metadata.json\n",
      "I0508 05:22:13.332901 139734729029376 run_manager.py:691] file/dir modified: /home/u37216/fluence/examples/wandb/run-20200508_115635-2gtdtjfa/wandb-metadata.json\n",
      "I0508 05:22:28.356937 139734729029376 run_manager.py:691] file/dir modified: /home/u37216/fluence/examples/wandb/run-20200508_115635-2gtdtjfa/wandb-metadata.json\n",
      "I0508 05:22:34.408333 139734729029376 run_manager.py:691] file/dir modified: /home/u37216/fluence/examples/wandb/run-20200508_115635-2gtdtjfa/wandb-events.jsonl\n",
      "I0508 05:22:44.425907 139734729029376 run_manager.py:691] file/dir modified: /home/u37216/fluence/examples/wandb/run-20200508_115635-2gtdtjfa/wandb-metadata.json\n",
      "I0508 05:23:00.529057 139734729029376 run_manager.py:691] file/dir modified: /home/u37216/fluence/examples/wandb/run-20200508_115635-2gtdtjfa/wandb-metadata.json\n",
      "I0508 05:23:04.537223 139734729029376 run_manager.py:691] file/dir modified: /home/u37216/fluence/examples/wandb/run-20200508_115635-2gtdtjfa/wandb-events.jsonl\n",
      "I0508 05:23:16.555816 139734729029376 run_manager.py:691] file/dir modified: /home/u37216/fluence/examples/wandb/run-20200508_115635-2gtdtjfa/wandb-metadata.json\n",
      "I0508 05:23:34.091296 139734729029376 run_manager.py:691] file/dir modified: /home/u37216/fluence/examples/wandb/run-20200508_115635-2gtdtjfa/wandb-metadata.json\n",
      "I0508 05:23:36.094109 139734729029376 run_manager.py:691] file/dir modified: /home/u37216/fluence/examples/wandb/run-20200508_115635-2gtdtjfa/wandb-events.jsonl\n",
      "I0508 05:23:49.633019 139734729029376 run_manager.py:691] file/dir modified: /home/u37216/fluence/examples/wandb/run-20200508_115635-2gtdtjfa/wandb-metadata.json\n",
      "I0508 05:24:06.022688 139734729029376 run_manager.py:691] file/dir modified: /home/u37216/fluence/examples/wandb/run-20200508_115635-2gtdtjfa/wandb-metadata.json\n",
      "I0508 05:24:09.029155 139734729029376 run_manager.py:691] file/dir modified: /home/u37216/fluence/examples/wandb/run-20200508_115635-2gtdtjfa/wandb-events.jsonl\n",
      "I0508 05:24:22.050428 139734729029376 run_manager.py:691] file/dir modified: /home/u37216/fluence/examples/wandb/run-20200508_115635-2gtdtjfa/wandb-metadata.json\n",
      "I0508 05:24:38.074142 139734729029376 run_manager.py:691] file/dir modified: /home/u37216/fluence/examples/wandb/run-20200508_115635-2gtdtjfa/wandb-metadata.json\n",
      "I0508 05:24:39.075691 139734729029376 run_manager.py:691] file/dir modified: /home/u37216/fluence/examples/wandb/run-20200508_115635-2gtdtjfa/wandb-events.jsonl\n",
      "I0508 05:24:54.102910 139734729029376 run_manager.py:691] file/dir modified: /home/u37216/fluence/examples/wandb/run-20200508_115635-2gtdtjfa/wandb-metadata.json\n",
      "I0508 05:25:09.506037 139734729029376 run_manager.py:691] file/dir modified: /home/u37216/fluence/examples/wandb/run-20200508_115635-2gtdtjfa/wandb-events.jsonl\n",
      "I0508 05:25:10.507380 139734729029376 run_manager.py:691] file/dir modified: /home/u37216/fluence/examples/wandb/run-20200508_115635-2gtdtjfa/wandb-metadata.json\n",
      "I0508 05:25:27.537369 139734729029376 run_manager.py:691] file/dir modified: /home/u37216/fluence/examples/wandb/run-20200508_115635-2gtdtjfa/wandb-metadata.json\n",
      "I0508 05:25:42.054492 139734729029376 run_manager.py:691] file/dir modified: /home/u37216/fluence/examples/wandb/run-20200508_115635-2gtdtjfa/wandb-events.jsonl\n",
      "I0508 05:25:43.055672 139734729029376 run_manager.py:691] file/dir modified: /home/u37216/fluence/examples/wandb/run-20200508_115635-2gtdtjfa/wandb-metadata.json\n",
      "I0508 05:25:59.247377 139734729029376 run_manager.py:691] file/dir modified: /home/u37216/fluence/examples/wandb/run-20200508_115635-2gtdtjfa/wandb-metadata.json\n",
      "I0508 05:26:13.299322 139734729029376 run_manager.py:691] file/dir modified: /home/u37216/fluence/examples/wandb/run-20200508_115635-2gtdtjfa/wandb-events.jsonl\n",
      "I0508 05:26:15.300933 139734729029376 run_manager.py:691] file/dir modified: /home/u37216/fluence/examples/wandb/run-20200508_115635-2gtdtjfa/wandb-metadata.json\n",
      "I0508 05:26:31.373472 139734729029376 run_manager.py:691] file/dir modified: /home/u37216/fluence/examples/wandb/run-20200508_115635-2gtdtjfa/wandb-metadata.json\n",
      "I0508 05:26:43.391750 139734729029376 run_manager.py:691] file/dir modified: /home/u37216/fluence/examples/wandb/run-20200508_115635-2gtdtjfa/wandb-events.jsonl\n",
      "I0508 05:26:47.398836 139734729029376 run_manager.py:691] file/dir modified: /home/u37216/fluence/examples/wandb/run-20200508_115635-2gtdtjfa/wandb-metadata.json\n",
      "I0508 05:27:03.429089 139734729029376 run_manager.py:691] file/dir modified: /home/u37216/fluence/examples/wandb/run-20200508_115635-2gtdtjfa/wandb-metadata.json\n",
      "I0508 05:27:15.841530 139734729029376 run_manager.py:691] file/dir modified: /home/u37216/fluence/examples/wandb/run-20200508_115635-2gtdtjfa/wandb-events.jsonl\n",
      "I0508 05:27:19.847750 139734729029376 run_manager.py:691] file/dir modified: /home/u37216/fluence/examples/wandb/run-20200508_115635-2gtdtjfa/wandb-metadata.json\n",
      "I0508 05:27:36.263401 139734729029376 run_manager.py:691] file/dir modified: /home/u37216/fluence/examples/wandb/run-20200508_115635-2gtdtjfa/wandb-metadata.json\n",
      "I0508 05:27:48.282672 139734729029376 run_manager.py:691] file/dir modified: /home/u37216/fluence/examples/wandb/run-20200508_115635-2gtdtjfa/wandb-events.jsonl\n",
      "I0508 05:27:52.289878 139734729029376 run_manager.py:691] file/dir modified: /home/u37216/fluence/examples/wandb/run-20200508_115635-2gtdtjfa/wandb-metadata.json\n",
      "I0508 05:28:08.315349 139734729029376 run_manager.py:691] file/dir modified: /home/u37216/fluence/examples/wandb/run-20200508_115635-2gtdtjfa/wandb-metadata.json\n",
      "I0508 05:28:18.331401 139734729029376 run_manager.py:691] file/dir modified: /home/u37216/fluence/examples/wandb/run-20200508_115635-2gtdtjfa/wandb-events.jsonl\n",
      "I0508 05:28:24.593938 139734729029376 run_manager.py:691] file/dir modified: /home/u37216/fluence/examples/wandb/run-20200508_115635-2gtdtjfa/wandb-metadata.json\n",
      "I0508 05:28:40.978692 139734729029376 run_manager.py:691] file/dir modified: /home/u37216/fluence/examples/wandb/run-20200508_115635-2gtdtjfa/wandb-metadata.json\n",
      "I0508 05:28:49.994566 139734729029376 run_manager.py:691] file/dir modified: /home/u37216/fluence/examples/wandb/run-20200508_115635-2gtdtjfa/wandb-events.jsonl\n",
      "I0508 05:28:57.038502 139734729029376 run_manager.py:691] file/dir modified: /home/u37216/fluence/examples/wandb/run-20200508_115635-2gtdtjfa/wandb-metadata.json\n",
      "I0508 05:29:13.061703 139734729029376 run_manager.py:691] file/dir modified: /home/u37216/fluence/examples/wandb/run-20200508_115635-2gtdtjfa/wandb-metadata.json\n",
      "I0508 05:29:21.166384 139734729029376 run_manager.py:691] file/dir modified: /home/u37216/fluence/examples/wandb/run-20200508_115635-2gtdtjfa/wandb-events.jsonl\n",
      "I0508 05:29:29.177625 139734729029376 run_manager.py:691] file/dir modified: /home/u37216/fluence/examples/wandb/run-20200508_115635-2gtdtjfa/wandb-metadata.json\n",
      "I0508 05:29:45.343137 139734729029376 run_manager.py:691] file/dir modified: /home/u37216/fluence/examples/wandb/run-20200508_115635-2gtdtjfa/wandb-metadata.json\n",
      "I0508 05:29:52.353926 139734729029376 run_manager.py:691] file/dir modified: /home/u37216/fluence/examples/wandb/run-20200508_115635-2gtdtjfa/wandb-events.jsonl\n",
      "I0508 05:30:01.499922 139734729029376 run_manager.py:691] file/dir modified: /home/u37216/fluence/examples/wandb/run-20200508_115635-2gtdtjfa/wandb-metadata.json\n",
      "I0508 05:30:17.844802 139734729029376 run_manager.py:691] file/dir modified: /home/u37216/fluence/examples/wandb/run-20200508_115635-2gtdtjfa/wandb-metadata.json\n",
      "I0508 05:30:24.071351 139734729029376 run_manager.py:691] file/dir modified: /home/u37216/fluence/examples/wandb/run-20200508_115635-2gtdtjfa/wandb-events.jsonl\n",
      "I0508 05:30:33.085437 139734729029376 run_manager.py:691] file/dir modified: /home/u37216/fluence/examples/wandb/run-20200508_115635-2gtdtjfa/wandb-metadata.json\n",
      "I0508 05:30:50.112112 139734729029376 run_manager.py:691] file/dir modified: /home/u37216/fluence/examples/wandb/run-20200508_115635-2gtdtjfa/wandb-metadata.json\n",
      "I0508 05:30:54.122758 139734729029376 run_manager.py:691] file/dir modified: /home/u37216/fluence/examples/wandb/run-20200508_115635-2gtdtjfa/wandb-events.jsonl\n",
      "I0508 05:31:05.139722 139734729029376 run_manager.py:691] file/dir modified: /home/u37216/fluence/examples/wandb/run-20200508_115635-2gtdtjfa/wandb-metadata.json\n",
      "I0508 05:31:21.162476 139734729029376 run_manager.py:691] file/dir modified: /home/u37216/fluence/examples/wandb/run-20200508_115635-2gtdtjfa/wandb-metadata.json\n",
      "I0508 05:31:24.167176 139734729029376 run_manager.py:691] file/dir modified: /home/u37216/fluence/examples/wandb/run-20200508_115635-2gtdtjfa/wandb-events.jsonl\n",
      "I0508 05:31:37.464419 139734729029376 run_manager.py:691] file/dir modified: /home/u37216/fluence/examples/wandb/run-20200508_115635-2gtdtjfa/wandb-metadata.json\n",
      "I0508 05:31:53.487526 139734729029376 run_manager.py:691] file/dir modified: /home/u37216/fluence/examples/wandb/run-20200508_115635-2gtdtjfa/wandb-metadata.json\n",
      "I0508 05:31:56.491928 139734729029376 run_manager.py:691] file/dir modified: /home/u37216/fluence/examples/wandb/run-20200508_115635-2gtdtjfa/wandb-events.jsonl\n",
      "I0508 05:32:10.121561 139734729029376 run_manager.py:691] file/dir modified: /home/u37216/fluence/examples/wandb/run-20200508_115635-2gtdtjfa/wandb-metadata.json\n",
      "I0508 05:32:26.147816 139734729029376 run_manager.py:691] file/dir modified: /home/u37216/fluence/examples/wandb/run-20200508_115635-2gtdtjfa/wandb-metadata.json\n",
      "I0508 05:32:28.150997 139734729029376 run_manager.py:691] file/dir modified: /home/u37216/fluence/examples/wandb/run-20200508_115635-2gtdtjfa/wandb-events.jsonl\n",
      "I0508 05:32:42.196633 139734729029376 run_manager.py:691] file/dir modified: /home/u37216/fluence/examples/wandb/run-20200508_115635-2gtdtjfa/wandb-metadata.json\n",
      "I0508 05:32:58.221481 139734729029376 run_manager.py:691] file/dir modified: /home/u37216/fluence/examples/wandb/run-20200508_115635-2gtdtjfa/wandb-events.jsonl\n",
      "I0508 05:32:58.225249 139734729029376 run_manager.py:691] file/dir modified: /home/u37216/fluence/examples/wandb/run-20200508_115635-2gtdtjfa/wandb-metadata.json\n",
      "I0508 05:33:14.345944 139734729029376 run_manager.py:691] file/dir modified: /home/u37216/fluence/examples/wandb/run-20200508_115635-2gtdtjfa/wandb-metadata.json\n",
      "I0508 05:33:30.601208 139734729029376 run_manager.py:691] file/dir modified: /home/u37216/fluence/examples/wandb/run-20200508_115635-2gtdtjfa/wandb-events.jsonl\n",
      "I0508 05:33:31.602436 139734729029376 run_manager.py:691] file/dir modified: /home/u37216/fluence/examples/wandb/run-20200508_115635-2gtdtjfa/wandb-metadata.json\n",
      "I0508 05:33:47.693337 139734729029376 run_manager.py:691] file/dir modified: /home/u37216/fluence/examples/wandb/run-20200508_115635-2gtdtjfa/wandb-metadata.json\n",
      "I0508 05:34:02.716570 139734729029376 run_manager.py:691] file/dir modified: /home/u37216/fluence/examples/wandb/run-20200508_115635-2gtdtjfa/wandb-events.jsonl\n",
      "I0508 05:34:03.717980 139734729029376 run_manager.py:691] file/dir modified: /home/u37216/fluence/examples/wandb/run-20200508_115635-2gtdtjfa/wandb-metadata.json\n",
      "I0508 05:34:19.808152 139734729029376 run_manager.py:691] file/dir modified: /home/u37216/fluence/examples/wandb/run-20200508_115635-2gtdtjfa/wandb-metadata.json\n",
      "I0508 05:34:32.831496 139734729029376 run_manager.py:691] file/dir modified: /home/u37216/fluence/examples/wandb/run-20200508_115635-2gtdtjfa/wandb-events.jsonl\n",
      "I0508 05:34:35.836944 139734729029376 run_manager.py:691] file/dir modified: /home/u37216/fluence/examples/wandb/run-20200508_115635-2gtdtjfa/wandb-metadata.json\n",
      "I0508 05:34:51.865859 139734729029376 run_manager.py:691] file/dir modified: /home/u37216/fluence/examples/wandb/run-20200508_115635-2gtdtjfa/wandb-metadata.json\n",
      "I0508 05:35:02.882984 139734729029376 run_manager.py:691] file/dir modified: /home/u37216/fluence/examples/wandb/run-20200508_115635-2gtdtjfa/wandb-events.jsonl\n",
      "I0508 05:35:09.737650 139734729029376 run_manager.py:691] file/dir modified: /home/u37216/fluence/examples/wandb/run-20200508_115635-2gtdtjfa/wandb-metadata.json\n",
      "I0508 05:35:25.514494 139734729029376 run_manager.py:691] file/dir modified: /home/u37216/fluence/examples/wandb/run-20200508_115635-2gtdtjfa/wandb-metadata.json\n",
      "I0508 05:35:35.532506 139734729029376 run_manager.py:691] file/dir modified: /home/u37216/fluence/examples/wandb/run-20200508_115635-2gtdtjfa/wandb-events.jsonl\n",
      "I0508 05:35:41.618310 139734729029376 run_manager.py:691] file/dir modified: /home/u37216/fluence/examples/wandb/run-20200508_115635-2gtdtjfa/wandb-metadata.json\n",
      "I0508 05:35:57.665505 139734729029376 run_manager.py:691] file/dir modified: /home/u37216/fluence/examples/wandb/run-20200508_115635-2gtdtjfa/wandb-metadata.json\n",
      "I0508 05:36:08.685294 139734729029376 run_manager.py:691] file/dir modified: /home/u37216/fluence/examples/wandb/run-20200508_115635-2gtdtjfa/wandb-events.jsonl\n",
      "I0508 05:36:13.693074 139734729029376 run_manager.py:691] file/dir modified: /home/u37216/fluence/examples/wandb/run-20200508_115635-2gtdtjfa/wandb-metadata.json\n",
      "I0508 05:36:29.827004 139734729029376 run_manager.py:691] file/dir modified: /home/u37216/fluence/examples/wandb/run-20200508_115635-2gtdtjfa/wandb-metadata.json\n",
      "I0508 05:36:39.859210 139734729029376 run_manager.py:691] file/dir modified: /home/u37216/fluence/examples/wandb/run-20200508_115635-2gtdtjfa/wandb-events.jsonl\n",
      "I0508 05:36:45.868554 139734729029376 run_manager.py:691] file/dir modified: /home/u37216/fluence/examples/wandb/run-20200508_115635-2gtdtjfa/wandb-metadata.json\n",
      "I0508 05:37:01.893217 139734729029376 run_manager.py:691] file/dir modified: /home/u37216/fluence/examples/wandb/run-20200508_115635-2gtdtjfa/wandb-metadata.json\n",
      "I0508 05:37:11.294931 139734729029376 run_manager.py:691] file/dir modified: /home/u37216/fluence/examples/wandb/run-20200508_115635-2gtdtjfa/wandb-events.jsonl\n",
      "I0508 05:37:18.304483 139734729029376 run_manager.py:691] file/dir modified: /home/u37216/fluence/examples/wandb/run-20200508_115635-2gtdtjfa/wandb-metadata.json\n",
      "I0508 05:37:34.330317 139734729029376 run_manager.py:691] file/dir modified: /home/u37216/fluence/examples/wandb/run-20200508_115635-2gtdtjfa/wandb-metadata.json\n",
      "I0508 05:37:42.473280 139734729029376 run_manager.py:691] file/dir modified: /home/u37216/fluence/examples/wandb/run-20200508_115635-2gtdtjfa/wandb-events.jsonl\n",
      "I0508 05:37:50.488278 139734729029376 run_manager.py:691] file/dir modified: /home/u37216/fluence/examples/wandb/run-20200508_115635-2gtdtjfa/wandb-metadata.json\n",
      "I0508 05:38:06.926149 139734729029376 run_manager.py:691] file/dir modified: /home/u37216/fluence/examples/wandb/run-20200508_115635-2gtdtjfa/wandb-metadata.json\n",
      "I0508 05:38:13.937248 139734729029376 run_manager.py:691] file/dir modified: /home/u37216/fluence/examples/wandb/run-20200508_115635-2gtdtjfa/wandb-events.jsonl\n",
      "I0508 05:38:22.953721 139734729029376 run_manager.py:691] file/dir modified: /home/u37216/fluence/examples/wandb/run-20200508_115635-2gtdtjfa/wandb-metadata.json\n",
      "I0508 05:38:38.979143 139734729029376 run_manager.py:691] file/dir modified: /home/u37216/fluence/examples/wandb/run-20200508_115635-2gtdtjfa/wandb-metadata.json\n",
      "I0508 05:38:43.986969 139734729029376 run_manager.py:691] file/dir modified: /home/u37216/fluence/examples/wandb/run-20200508_115635-2gtdtjfa/wandb-events.jsonl\n",
      "I0508 05:38:56.257650 139734729029376 run_manager.py:691] file/dir modified: /home/u37216/fluence/examples/wandb/run-20200508_115635-2gtdtjfa/wandb-metadata.json\n",
      "I0508 05:39:11.504755 139734729029376 run_manager.py:691] file/dir modified: /home/u37216/fluence/examples/wandb/run-20200508_115635-2gtdtjfa/wandb-metadata.json\n",
      "I0508 05:39:15.511697 139734729029376 run_manager.py:691] file/dir modified: /home/u37216/fluence/examples/wandb/run-20200508_115635-2gtdtjfa/wandb-events.jsonl\n",
      "I0508 05:39:27.558562 139734729029376 run_manager.py:691] file/dir modified: /home/u37216/fluence/examples/wandb/run-20200508_115635-2gtdtjfa/wandb-metadata.json\n",
      "I0508 05:39:43.641762 139734729029376 run_manager.py:691] file/dir modified: /home/u37216/fluence/examples/wandb/run-20200508_115635-2gtdtjfa/wandb-metadata.json\n",
      "I0508 05:39:46.648485 139734729029376 run_manager.py:691] file/dir modified: /home/u37216/fluence/examples/wandb/run-20200508_115635-2gtdtjfa/wandb-events.jsonl\n",
      "I0508 05:39:59.667445 139734729029376 run_manager.py:691] file/dir modified: /home/u37216/fluence/examples/wandb/run-20200508_115635-2gtdtjfa/wandb-metadata.json\n",
      "I0508 05:40:16.147491 139734729029376 run_manager.py:691] file/dir modified: /home/u37216/fluence/examples/wandb/run-20200508_115635-2gtdtjfa/wandb-metadata.json\n",
      "I0508 05:40:17.151872 139734729029376 run_manager.py:691] file/dir modified: /home/u37216/fluence/examples/wandb/run-20200508_115635-2gtdtjfa/wandb-events.jsonl\n",
      "I0508 05:40:32.590146 139734729029376 run_manager.py:691] file/dir modified: /home/u37216/fluence/examples/wandb/run-20200508_115635-2gtdtjfa/wandb-metadata.json\n",
      "I0508 05:40:48.944734 139734729029376 run_manager.py:691] file/dir modified: /home/u37216/fluence/examples/wandb/run-20200508_115635-2gtdtjfa/wandb-events.jsonl\n",
      "I0508 05:40:48.952136 139734729029376 run_manager.py:691] file/dir modified: /home/u37216/fluence/examples/wandb/run-20200508_115635-2gtdtjfa/wandb-metadata.json\n",
      "I0508 05:41:04.967657 139734729029376 run_manager.py:691] file/dir modified: /home/u37216/fluence/examples/wandb/run-20200508_115635-2gtdtjfa/wandb-metadata.json\n",
      "I0508 05:41:19.990668 139734729029376 run_manager.py:691] file/dir modified: /home/u37216/fluence/examples/wandb/run-20200508_115635-2gtdtjfa/wandb-events.jsonl\n",
      "I0508 05:41:20.993752 139734729029376 run_manager.py:691] file/dir modified: /home/u37216/fluence/examples/wandb/run-20200508_115635-2gtdtjfa/wandb-metadata.json\n",
      "I0508 05:41:37.026877 139734729029376 run_manager.py:691] file/dir modified: /home/u37216/fluence/examples/wandb/run-20200508_115635-2gtdtjfa/wandb-metadata.json\n",
      "I0508 05:41:51.049810 139734729029376 run_manager.py:691] file/dir modified: /home/u37216/fluence/examples/wandb/run-20200508_115635-2gtdtjfa/wandb-events.jsonl\n",
      "I0508 05:41:53.052720 139734729029376 run_manager.py:691] file/dir modified: /home/u37216/fluence/examples/wandb/run-20200508_115635-2gtdtjfa/wandb-metadata.json\n"
     ]
    },
    {
     "name": "stdout",
     "output_type": "stream",
     "text": [
      "\n"
     ]
    },
    {
     "data": {
      "application/vnd.jupyter.widget-view+json": {
       "model_id": "bfc679f0e4354e60b09e28a365f1e3cd",
       "version_major": 2,
       "version_minor": 0
      },
      "text/plain": [
       "A Jupyter Widget"
      ]
     },
     "metadata": {},
     "output_type": "display_data"
    },
    {
     "name": "stderr",
     "output_type": "stream",
     "text": [
      "I0508 05:42:09.411781 139734729029376 run_manager.py:691] file/dir modified: /home/u37216/fluence/examples/wandb/run-20200508_115635-2gtdtjfa/wandb-metadata.json\n",
      "I0508 05:42:23.719567 139734729029376 run_manager.py:691] file/dir modified: /home/u37216/fluence/examples/wandb/run-20200508_115635-2gtdtjfa/wandb-events.jsonl\n",
      "I0508 05:42:25.722481 139734729029376 run_manager.py:691] file/dir modified: /home/u37216/fluence/examples/wandb/run-20200508_115635-2gtdtjfa/wandb-metadata.json\n",
      "I0508 05:42:41.774817 139734729029376 run_manager.py:691] file/dir modified: /home/u37216/fluence/examples/wandb/run-20200508_115635-2gtdtjfa/wandb-metadata.json\n",
      "I0508 05:42:54.815770 139734729029376 run_manager.py:691] file/dir modified: /home/u37216/fluence/examples/wandb/run-20200508_115635-2gtdtjfa/wandb-events.jsonl\n",
      "I0508 05:42:57.936394 139734729029376 run_manager.py:691] file/dir modified: /home/u37216/fluence/examples/wandb/run-20200508_115635-2gtdtjfa/wandb-metadata.json\n",
      "I0508 05:43:14.347807 139734729029376 run_manager.py:691] file/dir modified: /home/u37216/fluence/examples/wandb/run-20200508_115635-2gtdtjfa/wandb-metadata.json\n",
      "I0508 05:43:25.365566 139734729029376 run_manager.py:691] file/dir modified: /home/u37216/fluence/examples/wandb/run-20200508_115635-2gtdtjfa/wandb-events.jsonl\n",
      "I0508 05:43:30.374256 139734729029376 run_manager.py:691] file/dir modified: /home/u37216/fluence/examples/wandb/run-20200508_115635-2gtdtjfa/wandb-metadata.json\n",
      "I0508 05:43:46.554805 139734729029376 run_manager.py:691] file/dir modified: /home/u37216/fluence/examples/wandb/run-20200508_115635-2gtdtjfa/wandb-metadata.json\n",
      "I0508 05:43:56.692501 139734729029376 run_manager.py:691] file/dir modified: /home/u37216/fluence/examples/wandb/run-20200508_115635-2gtdtjfa/wandb-events.jsonl\n",
      "I0508 05:44:02.701929 139734729029376 run_manager.py:691] file/dir modified: /home/u37216/fluence/examples/wandb/run-20200508_115635-2gtdtjfa/wandb-metadata.json\n",
      "I0508 05:44:18.848819 139734729029376 run_manager.py:691] file/dir modified: /home/u37216/fluence/examples/wandb/run-20200508_115635-2gtdtjfa/wandb-metadata.json\n",
      "I0508 05:44:28.156691 139734729029376 run_manager.py:691] file/dir modified: /home/u37216/fluence/examples/wandb/run-20200508_115635-2gtdtjfa/wandb-events.jsonl\n",
      "I0508 05:44:34.205532 139734729029376 run_manager.py:691] file/dir modified: /home/u37216/fluence/examples/wandb/run-20200508_115635-2gtdtjfa/wandb-metadata.json\n",
      "I0508 05:44:50.356587 139734729029376 run_manager.py:691] file/dir modified: /home/u37216/fluence/examples/wandb/run-20200508_115635-2gtdtjfa/wandb-metadata.json\n",
      "I0508 05:44:59.017071 139734729029376 run_manager.py:691] file/dir modified: /home/u37216/fluence/examples/wandb/run-20200508_115635-2gtdtjfa/wandb-events.jsonl\n",
      "I0508 05:45:07.030220 139734729029376 run_manager.py:691] file/dir modified: /home/u37216/fluence/examples/wandb/run-20200508_115635-2gtdtjfa/wandb-metadata.json\n",
      "I0508 05:45:23.057553 139734729029376 run_manager.py:691] file/dir modified: /home/u37216/fluence/examples/wandb/run-20200508_115635-2gtdtjfa/wandb-metadata.json\n",
      "I0508 05:45:30.070265 139734729029376 run_manager.py:691] file/dir modified: /home/u37216/fluence/examples/wandb/run-20200508_115635-2gtdtjfa/wandb-events.jsonl\n",
      "I0508 05:45:39.086455 139734729029376 run_manager.py:691] file/dir modified: /home/u37216/fluence/examples/wandb/run-20200508_115635-2gtdtjfa/wandb-metadata.json\n",
      "I0508 05:45:55.148541 139734729029376 run_manager.py:691] file/dir modified: /home/u37216/fluence/examples/wandb/run-20200508_115635-2gtdtjfa/wandb-metadata.json\n",
      "I0508 05:46:00.185018 139734729029376 run_manager.py:691] file/dir modified: /home/u37216/fluence/examples/wandb/run-20200508_115635-2gtdtjfa/wandb-events.jsonl\n",
      "I0508 05:46:11.202317 139734729029376 run_manager.py:691] file/dir modified: /home/u37216/fluence/examples/wandb/run-20200508_115635-2gtdtjfa/wandb-metadata.json\n",
      "I0508 05:46:27.642096 139734729029376 run_manager.py:691] file/dir modified: /home/u37216/fluence/examples/wandb/run-20200508_115635-2gtdtjfa/wandb-metadata.json\n",
      "I0508 05:46:31.647507 139734729029376 run_manager.py:691] file/dir modified: /home/u37216/fluence/examples/wandb/run-20200508_115635-2gtdtjfa/wandb-events.jsonl\n",
      "I0508 05:46:44.244699 139734729029376 run_manager.py:691] file/dir modified: /home/u37216/fluence/examples/wandb/run-20200508_115635-2gtdtjfa/wandb-metadata.json\n",
      "I0508 05:47:00.279531 139734729029376 run_manager.py:691] file/dir modified: /home/u37216/fluence/examples/wandb/run-20200508_115635-2gtdtjfa/wandb-metadata.json\n",
      "I0508 05:47:03.283788 139734729029376 run_manager.py:691] file/dir modified: /home/u37216/fluence/examples/wandb/run-20200508_115635-2gtdtjfa/wandb-events.jsonl\n",
      "I0508 05:47:16.304589 139734729029376 run_manager.py:691] file/dir modified: /home/u37216/fluence/examples/wandb/run-20200508_115635-2gtdtjfa/wandb-metadata.json\n",
      "I0508 05:47:32.328600 139734729029376 run_manager.py:691] file/dir modified: /home/u37216/fluence/examples/wandb/run-20200508_115635-2gtdtjfa/wandb-metadata.json\n",
      "I0508 05:47:33.331531 139734729029376 run_manager.py:691] file/dir modified: /home/u37216/fluence/examples/wandb/run-20200508_115635-2gtdtjfa/wandb-events.jsonl\n",
      "I0508 05:47:48.354316 139734729029376 run_manager.py:691] file/dir modified: /home/u37216/fluence/examples/wandb/run-20200508_115635-2gtdtjfa/wandb-metadata.json\n",
      "I0508 05:48:04.693693 139734729029376 run_manager.py:691] file/dir modified: /home/u37216/fluence/examples/wandb/run-20200508_115635-2gtdtjfa/wandb-metadata.json\n",
      "I0508 05:48:05.694797 139734729029376 run_manager.py:691] file/dir modified: /home/u37216/fluence/examples/wandb/run-20200508_115635-2gtdtjfa/wandb-events.jsonl\n",
      "I0508 05:48:20.716714 139734729029376 run_manager.py:691] file/dir modified: /home/u37216/fluence/examples/wandb/run-20200508_115635-2gtdtjfa/wandb-metadata.json\n",
      "I0508 05:48:37.244049 139734729029376 run_manager.py:691] file/dir modified: /home/u37216/fluence/examples/wandb/run-20200508_115635-2gtdtjfa/wandb-events.jsonl\n",
      "I0508 05:48:37.246011 139734729029376 run_manager.py:691] file/dir modified: /home/u37216/fluence/examples/wandb/run-20200508_115635-2gtdtjfa/wandb-metadata.json\n",
      "I0508 05:48:53.277721 139734729029376 run_manager.py:691] file/dir modified: /home/u37216/fluence/examples/wandb/run-20200508_115635-2gtdtjfa/wandb-metadata.json\n",
      "I0508 05:49:08.346348 139734729029376 run_manager.py:691] file/dir modified: /home/u37216/fluence/examples/wandb/run-20200508_115635-2gtdtjfa/wandb-events.jsonl\n",
      "I0508 05:49:09.347598 139734729029376 run_manager.py:691] file/dir modified: /home/u37216/fluence/examples/wandb/run-20200508_115635-2gtdtjfa/wandb-metadata.json\n",
      "I0508 05:49:25.372096 139734729029376 run_manager.py:691] file/dir modified: /home/u37216/fluence/examples/wandb/run-20200508_115635-2gtdtjfa/wandb-metadata.json\n",
      "I0508 05:49:38.392465 139734729029376 run_manager.py:691] file/dir modified: /home/u37216/fluence/examples/wandb/run-20200508_115635-2gtdtjfa/wandb-events.jsonl\n",
      "I0508 05:49:41.396777 139734729029376 run_manager.py:691] file/dir modified: /home/u37216/fluence/examples/wandb/run-20200508_115635-2gtdtjfa/wandb-metadata.json\n",
      "I0508 05:49:57.657470 139734729029376 run_manager.py:691] file/dir modified: /home/u37216/fluence/examples/wandb/run-20200508_115635-2gtdtjfa/wandb-metadata.json\n",
      "I0508 05:50:11.052038 139734729029376 run_manager.py:691] file/dir modified: /home/u37216/fluence/examples/wandb/run-20200508_115635-2gtdtjfa/wandb-events.jsonl\n",
      "I0508 05:50:14.056603 139734729029376 run_manager.py:691] file/dir modified: /home/u37216/fluence/examples/wandb/run-20200508_115635-2gtdtjfa/wandb-metadata.json\n",
      "I0508 05:50:30.302785 139734729029376 run_manager.py:691] file/dir modified: /home/u37216/fluence/examples/wandb/run-20200508_115635-2gtdtjfa/wandb-metadata.json\n",
      "I0508 05:50:42.321716 139734729029376 run_manager.py:691] file/dir modified: /home/u37216/fluence/examples/wandb/run-20200508_115635-2gtdtjfa/wandb-events.jsonl\n",
      "I0508 05:50:46.402176 139734729029376 run_manager.py:691] file/dir modified: /home/u37216/fluence/examples/wandb/run-20200508_115635-2gtdtjfa/wandb-metadata.json\n",
      "I0508 05:51:02.687156 139734729029376 run_manager.py:691] file/dir modified: /home/u37216/fluence/examples/wandb/run-20200508_115635-2gtdtjfa/wandb-metadata.json\n",
      "I0508 05:51:13.862693 139734729029376 run_manager.py:691] file/dir modified: /home/u37216/fluence/examples/wandb/run-20200508_115635-2gtdtjfa/wandb-events.jsonl\n",
      "I0508 05:51:18.898312 139734729029376 run_manager.py:691] file/dir modified: /home/u37216/fluence/examples/wandb/run-20200508_115635-2gtdtjfa/wandb-metadata.json\n",
      "I0508 05:51:34.925804 139734729029376 run_manager.py:691] file/dir modified: /home/u37216/fluence/examples/wandb/run-20200508_115635-2gtdtjfa/wandb-metadata.json\n",
      "I0508 05:51:45.001406 139734729029376 run_manager.py:691] file/dir modified: /home/u37216/fluence/examples/wandb/run-20200508_115635-2gtdtjfa/wandb-events.jsonl\n",
      "I0508 05:51:51.196352 139734729029376 run_manager.py:691] file/dir modified: /home/u37216/fluence/examples/wandb/run-20200508_115635-2gtdtjfa/wandb-metadata.json\n",
      "I0508 05:52:07.294560 139734729029376 run_manager.py:691] file/dir modified: /home/u37216/fluence/examples/wandb/run-20200508_115635-2gtdtjfa/wandb-metadata.json\n",
      "I0508 05:52:16.308667 139734729029376 run_manager.py:691] file/dir modified: /home/u37216/fluence/examples/wandb/run-20200508_115635-2gtdtjfa/wandb-events.jsonl\n",
      "I0508 05:52:23.320454 139734729029376 run_manager.py:691] file/dir modified: /home/u37216/fluence/examples/wandb/run-20200508_115635-2gtdtjfa/wandb-metadata.json\n",
      "I0508 05:52:39.376696 139734729029376 run_manager.py:691] file/dir modified: /home/u37216/fluence/examples/wandb/run-20200508_115635-2gtdtjfa/wandb-metadata.json\n",
      "I0508 05:52:47.389553 139734729029376 run_manager.py:691] file/dir modified: /home/u37216/fluence/examples/wandb/run-20200508_115635-2gtdtjfa/wandb-events.jsonl\n",
      "I0508 05:52:55.402414 139734729029376 run_manager.py:691] file/dir modified: /home/u37216/fluence/examples/wandb/run-20200508_115635-2gtdtjfa/wandb-metadata.json\n",
      "I0508 05:53:11.429247 139734729029376 run_manager.py:691] file/dir modified: /home/u37216/fluence/examples/wandb/run-20200508_115635-2gtdtjfa/wandb-metadata.json\n",
      "I0508 05:53:18.439258 139734729029376 run_manager.py:691] file/dir modified: /home/u37216/fluence/examples/wandb/run-20200508_115635-2gtdtjfa/wandb-events.jsonl\n",
      "I0508 05:53:27.453008 139734729029376 run_manager.py:691] file/dir modified: /home/u37216/fluence/examples/wandb/run-20200508_115635-2gtdtjfa/wandb-metadata.json\n",
      "I0508 05:53:43.477893 139734729029376 run_manager.py:691] file/dir modified: /home/u37216/fluence/examples/wandb/run-20200508_115635-2gtdtjfa/wandb-metadata.json\n",
      "I0508 05:53:48.486274 139734729029376 run_manager.py:691] file/dir modified: /home/u37216/fluence/examples/wandb/run-20200508_115635-2gtdtjfa/wandb-events.jsonl\n",
      "I0508 05:53:59.505260 139734729029376 run_manager.py:691] file/dir modified: /home/u37216/fluence/examples/wandb/run-20200508_115635-2gtdtjfa/wandb-metadata.json\n",
      "I0508 05:54:16.110147 139734729029376 run_manager.py:691] file/dir modified: /home/u37216/fluence/examples/wandb/run-20200508_115635-2gtdtjfa/wandb-metadata.json\n",
      "I0508 05:54:20.117856 139734729029376 run_manager.py:691] file/dir modified: /home/u37216/fluence/examples/wandb/run-20200508_115635-2gtdtjfa/wandb-events.jsonl\n",
      "I0508 05:54:32.155731 139734729029376 run_manager.py:691] file/dir modified: /home/u37216/fluence/examples/wandb/run-20200508_115635-2gtdtjfa/wandb-metadata.json\n",
      "I0508 05:54:48.222378 139734729029376 run_manager.py:691] file/dir modified: /home/u37216/fluence/examples/wandb/run-20200508_115635-2gtdtjfa/wandb-metadata.json\n",
      "I0508 05:54:52.230558 139734729029376 run_manager.py:691] file/dir modified: /home/u37216/fluence/examples/wandb/run-20200508_115635-2gtdtjfa/wandb-events.jsonl\n",
      "I0508 05:55:04.249545 139734729029376 run_manager.py:691] file/dir modified: /home/u37216/fluence/examples/wandb/run-20200508_115635-2gtdtjfa/wandb-metadata.json\n",
      "I0508 05:55:20.294280 139734729029376 run_manager.py:691] file/dir modified: /home/u37216/fluence/examples/wandb/run-20200508_115635-2gtdtjfa/wandb-metadata.json\n",
      "I0508 05:55:23.302183 139734729029376 run_manager.py:691] file/dir modified: /home/u37216/fluence/examples/wandb/run-20200508_115635-2gtdtjfa/wandb-events.jsonl\n",
      "I0508 05:55:36.322285 139734729029376 run_manager.py:691] file/dir modified: /home/u37216/fluence/examples/wandb/run-20200508_115635-2gtdtjfa/wandb-metadata.json\n",
      "I0508 05:55:52.346782 139734729029376 run_manager.py:691] file/dir modified: /home/u37216/fluence/examples/wandb/run-20200508_115635-2gtdtjfa/wandb-metadata.json\n",
      "I0508 05:55:53.348512 139734729029376 run_manager.py:691] file/dir modified: /home/u37216/fluence/examples/wandb/run-20200508_115635-2gtdtjfa/wandb-events.jsonl\n",
      "I0508 05:56:09.298447 139734729029376 run_manager.py:691] file/dir modified: /home/u37216/fluence/examples/wandb/run-20200508_115635-2gtdtjfa/wandb-metadata.json\n",
      "I0508 05:56:25.537045 139734729029376 run_manager.py:691] file/dir modified: /home/u37216/fluence/examples/wandb/run-20200508_115635-2gtdtjfa/wandb-events.jsonl\n",
      "I0508 05:56:25.538487 139734729029376 run_manager.py:691] file/dir modified: /home/u37216/fluence/examples/wandb/run-20200508_115635-2gtdtjfa/wandb-metadata.json\n",
      "I0508 05:56:41.900772 139734729029376 run_manager.py:691] file/dir modified: /home/u37216/fluence/examples/wandb/run-20200508_115635-2gtdtjfa/wandb-metadata.json\n",
      "I0508 05:56:56.922789 139734729029376 run_manager.py:691] file/dir modified: /home/u37216/fluence/examples/wandb/run-20200508_115635-2gtdtjfa/wandb-events.jsonl\n",
      "I0508 05:56:57.925858 139734729029376 run_manager.py:691] file/dir modified: /home/u37216/fluence/examples/wandb/run-20200508_115635-2gtdtjfa/wandb-metadata.json\n",
      "I0508 05:57:13.948442 139734729029376 run_manager.py:691] file/dir modified: /home/u37216/fluence/examples/wandb/run-20200508_115635-2gtdtjfa/wandb-metadata.json\n",
      "I0508 05:57:26.969678 139734729029376 run_manager.py:691] file/dir modified: /home/u37216/fluence/examples/wandb/run-20200508_115635-2gtdtjfa/wandb-events.jsonl\n",
      "I0508 05:57:29.974318 139734729029376 run_manager.py:691] file/dir modified: /home/u37216/fluence/examples/wandb/run-20200508_115635-2gtdtjfa/wandb-metadata.json\n",
      "I0508 05:57:46.558077 139734729029376 run_manager.py:691] file/dir modified: /home/u37216/fluence/examples/wandb/run-20200508_115635-2gtdtjfa/wandb-metadata.json\n",
      "I0508 05:57:59.008022 139734729029376 run_manager.py:691] file/dir modified: /home/u37216/fluence/examples/wandb/run-20200508_115635-2gtdtjfa/wandb-events.jsonl\n",
      "I0508 05:58:03.043595 139734729029376 run_manager.py:691] file/dir modified: /home/u37216/fluence/examples/wandb/run-20200508_115635-2gtdtjfa/wandb-metadata.json\n",
      "I0508 05:58:19.707131 139734729029376 run_manager.py:691] file/dir modified: /home/u37216/fluence/examples/wandb/run-20200508_115635-2gtdtjfa/wandb-metadata.json\n",
      "I0508 05:58:31.726090 139734729029376 run_manager.py:691] file/dir modified: /home/u37216/fluence/examples/wandb/run-20200508_115635-2gtdtjfa/wandb-events.jsonl\n",
      "I0508 05:58:35.789481 139734729029376 run_manager.py:691] file/dir modified: /home/u37216/fluence/examples/wandb/run-20200508_115635-2gtdtjfa/wandb-metadata.json\n",
      "I0508 05:58:51.923791 139734729029376 run_manager.py:691] file/dir modified: /home/u37216/fluence/examples/wandb/run-20200508_115635-2gtdtjfa/wandb-metadata.json\n",
      "I0508 05:59:02.980475 139734729029376 run_manager.py:691] file/dir modified: /home/u37216/fluence/examples/wandb/run-20200508_115635-2gtdtjfa/wandb-events.jsonl\n",
      "I0508 05:59:07.990844 139734729029376 run_manager.py:691] file/dir modified: /home/u37216/fluence/examples/wandb/run-20200508_115635-2gtdtjfa/wandb-metadata.json\n",
      "I0508 05:59:24.016216 139734729029376 run_manager.py:691] file/dir modified: /home/u37216/fluence/examples/wandb/run-20200508_115635-2gtdtjfa/wandb-metadata.json\n",
      "I0508 05:59:33.043848 139734729029376 run_manager.py:691] file/dir modified: /home/u37216/fluence/examples/wandb/run-20200508_115635-2gtdtjfa/wandb-events.jsonl\n",
      "I0508 05:59:40.269351 139734729029376 run_manager.py:691] file/dir modified: /home/u37216/fluence/examples/wandb/run-20200508_115635-2gtdtjfa/wandb-metadata.json\n",
      "I0508 05:59:56.344434 139734729029376 run_manager.py:691] file/dir modified: /home/u37216/fluence/examples/wandb/run-20200508_115635-2gtdtjfa/wandb-metadata.json\n",
      "I0508 06:00:04.359566 139734729029376 run_manager.py:691] file/dir modified: /home/u37216/fluence/examples/wandb/run-20200508_115635-2gtdtjfa/wandb-events.jsonl\n",
      "I0508 06:00:12.705009 139734729029376 run_manager.py:691] file/dir modified: /home/u37216/fluence/examples/wandb/run-20200508_115635-2gtdtjfa/wandb-metadata.json\n",
      "I0508 06:00:28.768556 139734729029376 run_manager.py:691] file/dir modified: /home/u37216/fluence/examples/wandb/run-20200508_115635-2gtdtjfa/wandb-metadata.json\n",
      "I0508 06:00:35.780160 139734729029376 run_manager.py:691] file/dir modified: /home/u37216/fluence/examples/wandb/run-20200508_115635-2gtdtjfa/wandb-events.jsonl\n",
      "I0508 06:00:44.811757 139734729029376 run_manager.py:691] file/dir modified: /home/u37216/fluence/examples/wandb/run-20200508_115635-2gtdtjfa/wandb-metadata.json\n",
      "I0508 06:01:00.888715 139734729029376 run_manager.py:691] file/dir modified: /home/u37216/fluence/examples/wandb/run-20200508_115635-2gtdtjfa/wandb-metadata.json\n",
      "I0508 06:01:05.901682 139734729029376 run_manager.py:691] file/dir modified: /home/u37216/fluence/examples/wandb/run-20200508_115635-2gtdtjfa/wandb-events.jsonl\n",
      "I0508 06:01:17.092944 139734729029376 run_manager.py:691] file/dir modified: /home/u37216/fluence/examples/wandb/run-20200508_115635-2gtdtjfa/wandb-metadata.json\n",
      "I0508 06:01:33.191422 139734729029376 run_manager.py:691] file/dir modified: /home/u37216/fluence/examples/wandb/run-20200508_115635-2gtdtjfa/wandb-metadata.json\n",
      "I0508 06:01:37.588937 139734729029376 run_manager.py:691] file/dir modified: /home/u37216/fluence/examples/wandb/run-20200508_115635-2gtdtjfa/wandb-events.jsonl\n",
      "I0508 06:01:49.687784 139734729029376 run_manager.py:691] file/dir modified: /home/u37216/fluence/examples/wandb/run-20200508_115635-2gtdtjfa/wandb-metadata.json\n",
      "I0508 06:02:06.716030 139734729029376 run_manager.py:691] file/dir modified: /home/u37216/fluence/examples/wandb/run-20200508_115635-2gtdtjfa/wandb-metadata.json\n",
      "I0508 06:02:08.718949 139734729029376 run_manager.py:691] file/dir modified: /home/u37216/fluence/examples/wandb/run-20200508_115635-2gtdtjfa/wandb-events.jsonl\n",
      "I0508 06:02:22.768751 139734729029376 run_manager.py:691] file/dir modified: /home/u37216/fluence/examples/wandb/run-20200508_115635-2gtdtjfa/wandb-metadata.json\n",
      "I0508 06:02:38.967088 139734729029376 run_manager.py:691] file/dir modified: /home/u37216/fluence/examples/wandb/run-20200508_115635-2gtdtjfa/wandb-metadata.json\n",
      "I0508 06:02:39.968683 139734729029376 run_manager.py:691] file/dir modified: /home/u37216/fluence/examples/wandb/run-20200508_115635-2gtdtjfa/wandb-events.jsonl\n",
      "I0508 06:02:55.500636 139734729029376 run_manager.py:691] file/dir modified: /home/u37216/fluence/examples/wandb/run-20200508_115635-2gtdtjfa/wandb-metadata.json\n",
      "I0508 06:03:11.580539 139734729029376 run_manager.py:691] file/dir modified: /home/u37216/fluence/examples/wandb/run-20200508_115635-2gtdtjfa/wandb-events.jsonl\n",
      "I0508 06:03:11.584126 139734729029376 run_manager.py:691] file/dir modified: /home/u37216/fluence/examples/wandb/run-20200508_115635-2gtdtjfa/wandb-metadata.json\n",
      "I0508 06:03:27.633722 139734729029376 run_manager.py:691] file/dir modified: /home/u37216/fluence/examples/wandb/run-20200508_115635-2gtdtjfa/wandb-metadata.json\n",
      "I0508 06:03:42.669734 139734729029376 run_manager.py:691] file/dir modified: /home/u37216/fluence/examples/wandb/run-20200508_115635-2gtdtjfa/wandb-events.jsonl\n",
      "I0508 06:03:43.671019 139734729029376 run_manager.py:691] file/dir modified: /home/u37216/fluence/examples/wandb/run-20200508_115635-2gtdtjfa/wandb-metadata.json\n",
      "I0508 06:04:00.002123 139734729029376 run_manager.py:691] file/dir modified: /home/u37216/fluence/examples/wandb/run-20200508_115635-2gtdtjfa/wandb-metadata.json\n",
      "I0508 06:04:14.217629 139734729029376 run_manager.py:691] file/dir modified: /home/u37216/fluence/examples/wandb/run-20200508_115635-2gtdtjfa/wandb-events.jsonl\n",
      "I0508 06:04:16.388537 139734729029376 run_manager.py:691] file/dir modified: /home/u37216/fluence/examples/wandb/run-20200508_115635-2gtdtjfa/wandb-metadata.json\n",
      "I0508 06:04:21.490662 139738724797312 trainer.py:457] \n",
      "\n",
      "Training completed. Do not forget to share your model on huggingface.co/models =)\n",
      "\n",
      "\n"
     ]
    },
    {
     "name": "stdout",
     "output_type": "stream",
     "text": [
      "\n",
      "\n"
     ]
    },
    {
     "data": {
      "text/plain": [
       "TrainOutput(global_step=9, training_loss=6.104192998674181)"
      ]
     },
     "execution_count": 36,
     "metadata": {},
     "output_type": "execute_result"
    },
    {
     "name": "stderr",
     "output_type": "stream",
     "text": [
      "I0508 06:04:21.543061 139738724797312 run_manager.py:1071] shutting down system stats and metadata service\n",
      "I0508 06:04:21.547311 139734729029376 run_manager.py:691] file/dir modified: /home/u37216/fluence/examples/wandb/run-20200508_115635-2gtdtjfa/config.yaml\n",
      "I0508 06:04:21.698238 139734729029376 run_manager.py:680] file/dir created: /home/u37216/fluence/examples/wandb/run-20200508_115635-2gtdtjfa/code/_session_history.ipynb\n",
      "I0508 06:04:21.700689 139734729029376 run_manager.py:680] file/dir created: /home/u37216/fluence/examples/wandb/run-20200508_115635-2gtdtjfa/code\n",
      "I0508 06:04:22.553502 139738724797312 run_manager.py:1085] stopping streaming files and file change observer\n",
      "I0508 06:04:22.554096 139734729029376 run_manager.py:691] file/dir modified: /home/u37216/fluence/examples/wandb/run-20200508_115635-2gtdtjfa/wandb-events.jsonl\n",
      "I0508 06:04:22.559178 139738724797312 run_manager.py:691] file/dir modified: /home/u37216/fluence/examples/wandb/run-20200508_115635-2gtdtjfa/wandb-metadata.json\n"
     ]
    }
   ],
   "source": [
    "trainer.train(model_path = model_path)"
   ]
  },
  {
   "cell_type": "code",
   "execution_count": 38,
   "metadata": {},
   "outputs": [
    {
     "name": "stderr",
     "output_type": "stream",
     "text": [
      "I0508 06:55:16.517558 139738724797312 trainer.py:609] ***** Running Evaluation *****\n",
      "I0508 06:55:16.519285 139738724797312 trainer.py:610]   Num examples = 1\n",
      "I0508 06:55:16.520593 139738724797312 trainer.py:611]   Batch size = 4\n"
     ]
    },
    {
     "data": {
      "application/vnd.jupyter.widget-view+json": {
       "model_id": "ea056e509f0e4f29b8a674a231ebb7a1",
       "version_major": 2,
       "version_minor": 0
      },
      "text/plain": [
       "A Jupyter Widget"
      ]
     },
     "metadata": {},
     "output_type": "display_data"
    },
    {
     "name": "stdout",
     "output_type": "stream",
     "text": [
      "\n"
     ]
    }
   ],
   "source": [
    "eval_output = trainer.evaluate()"
   ]
  },
  {
   "cell_type": "code",
   "execution_count": 39,
   "metadata": {},
   "outputs": [],
   "source": [
    "perplexity = math.exp(eval_output[\"loss\"])\n",
    "result = {\"perplexity\": perplexity}"
   ]
  },
  {
   "cell_type": "code",
   "execution_count": 47,
   "metadata": {},
   "outputs": [
    {
     "name": "stderr",
     "output_type": "stream",
     "text": [
      "I0508 07:02:09.048841 139738724797312 trainer.py:512] Saving model checkpoint to /home/u37216/saved_models\n",
      "I0508 07:02:09.054607 139738724797312 configuration_utils.py:144] Configuration saved in /home/u37216/saved_models/config.json\n",
      "I0508 07:02:09.215681 139738724797312 modeling_utils.py:450] Model weights saved in /home/u37216/saved_models/pytorch_model.bin\n"
     ]
    }
   ],
   "source": [
    "trainer.save_model(training_args.output_dir)"
   ]
  },
  {
   "cell_type": "code",
   "execution_count": 48,
   "metadata": {},
   "outputs": [
    {
     "data": {
      "text/plain": [
       "{'perplexity': 327.21500614323526}"
      ]
     },
     "execution_count": 48,
     "metadata": {},
     "output_type": "execute_result"
    }
   ],
   "source": []
  },
  {
   "cell_type": "code",
   "execution_count": null,
   "metadata": {},
   "outputs": [],
   "source": []
  }
 ],
 "metadata": {
  "kernelspec": {
   "display_name": "torch7",
   "language": "python",
   "name": "myenv"
  },
  "language_info": {
   "codemirror_mode": {
    "name": "ipython",
    "version": 3
   },
   "file_extension": ".py",
   "mimetype": "text/x-python",
   "name": "python",
   "nbconvert_exporter": "python",
   "pygments_lexer": "ipython3",
   "version": "3.6.3"
  }
 },
 "nbformat": 4,
 "nbformat_minor": 4
}
